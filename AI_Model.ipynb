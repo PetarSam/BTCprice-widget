{
  "nbformat": 4,
  "nbformat_minor": 0,
  "metadata": {
    "colab": {
      "name": "AI-Model.ipynb",
      "provenance": [],
      "collapsed_sections": [],
      "authorship_tag": "ABX9TyMGdvdM9qXdh54o8ZPWBDAQ",
      "include_colab_link": true
    },
    "kernelspec": {
      "name": "python3",
      "display_name": "Python 3"
    }
  },
  "cells": [
    {
      "cell_type": "markdown",
      "metadata": {
        "id": "view-in-github",
        "colab_type": "text"
      },
      "source": [
        "<a href=\"https://colab.research.google.com/github/PetarSam/BTCprice-widget/blob/master/AI_Model.ipynb\" target=\"_parent\"><img src=\"https://colab.research.google.com/assets/colab-badge.svg\" alt=\"Open In Colab\"/></a>"
      ]
    },
    {
      "cell_type": "markdown",
      "metadata": {
        "id": "3HyxrWn7NF-E"
      },
      "source": [
        "## Package imports"
      ]
    },
    {
      "cell_type": "code",
      "metadata": {
        "id": "yF-VuSDkYyE1",
        "outputId": "0f6cb94b-89a2-445c-a2ff-16f7efabc42d",
        "colab": {
          "base_uri": "https://localhost:8080/",
          "height": 204
        }
      },
      "source": [
        "import pandas as pd\n",
        "import regex as re\n",
        "import numpy as np\n",
        "from sklearn.model_selection import train_test_split\n",
        "from sklearn.feature_extraction.text import CountVectorizer\n",
        "from sklearn.feature_extraction.text import TfidfVectorizer\n",
        "from sklearn.naive_bayes import MultinomialNB\n",
        "from sklearn.pipeline import Pipeline\n",
        "from sklearn.metrics import mean_absolute_error\n",
        "from sklearn.feature_extraction.text import TfidfVectorizer\n",
        "from sklearn import model_selection, naive_bayes, svm\n",
        "from sklearn.metrics import accuracy_score\n",
        "from sklearn import svm\n",
        "from nltk.tokenize import word_tokenize\n",
        "from nltk import pos_tag\n",
        "from nltk.corpus import stopwords\n",
        "from nltk.stem import WordNetLemmatizer\n",
        "from nltk.tokenize import word_tokenize\n",
        "from collections import defaultdict\n",
        "from nltk.corpus import wordnet as wn\n",
        "import nltk\n",
        "nltk.download('punkt')\n",
        "nltk.download('wordnet')\n",
        "nltk.download('averaged_perceptron_tagger')\n",
        "nltk.download('stopwords')"
      ],
      "execution_count": null,
      "outputs": [
        {
          "output_type": "stream",
          "text": [
            "[nltk_data] Downloading package punkt to /root/nltk_data...\n",
            "[nltk_data]   Package punkt is already up-to-date!\n",
            "[nltk_data] Downloading package wordnet to /root/nltk_data...\n",
            "[nltk_data]   Package wordnet is already up-to-date!\n",
            "[nltk_data] Downloading package averaged_perceptron_tagger to\n",
            "[nltk_data]     /root/nltk_data...\n",
            "[nltk_data]   Package averaged_perceptron_tagger is already up-to-\n",
            "[nltk_data]       date!\n",
            "[nltk_data] Downloading package stopwords to /root/nltk_data...\n",
            "[nltk_data]   Package stopwords is already up-to-date!\n"
          ],
          "name": "stdout"
        },
        {
          "output_type": "execute_result",
          "data": {
            "text/plain": [
              "True"
            ]
          },
          "metadata": {
            "tags": []
          },
          "execution_count": 83
        }
      ]
    },
    {
      "cell_type": "markdown",
      "metadata": {
        "id": "rtt7vcctNCPv"
      },
      "source": [
        "## Data load"
      ]
    },
    {
      "cell_type": "code",
      "metadata": {
        "id": "ESoJ5zJtZYA8"
      },
      "source": [
        "URL = \"https://raw.githubusercontent.com/Iuxta-ai/AI-dataset/master/dataset.csv?token=AIDXVT2WZ7AL5TDMG4A6MA27QL3VQ\""
      ],
      "execution_count": null,
      "outputs": []
    },
    {
      "cell_type": "code",
      "metadata": {
        "id": "-QZNbmbnZvB4"
      },
      "source": [
        "df = pd.read_csv(URL, error_bad_lines=False)"
      ],
      "execution_count": null,
      "outputs": []
    },
    {
      "cell_type": "code",
      "metadata": {
        "id": "k1qkqSvRbyE9",
        "outputId": "d8281242-7f19-47db-d3ae-1f38b97f0133",
        "colab": {
          "base_uri": "https://localhost:8080/",
          "height": 204
        }
      },
      "source": [
        "df.head()"
      ],
      "execution_count": null,
      "outputs": [
        {
          "output_type": "execute_result",
          "data": {
            "text/html": [
              "<div>\n",
              "<style scoped>\n",
              "    .dataframe tbody tr th:only-of-type {\n",
              "        vertical-align: middle;\n",
              "    }\n",
              "\n",
              "    .dataframe tbody tr th {\n",
              "        vertical-align: top;\n",
              "    }\n",
              "\n",
              "    .dataframe thead th {\n",
              "        text-align: right;\n",
              "    }\n",
              "</style>\n",
              "<table border=\"1\" class=\"dataframe\">\n",
              "  <thead>\n",
              "    <tr style=\"text-align: right;\">\n",
              "      <th></th>\n",
              "      <th>date</th>\n",
              "      <th>text</th>\n",
              "      <th>orig_price</th>\n",
              "      <th>30min_price</th>\n",
              "      <th>60min_price</th>\n",
              "      <th>90min_price</th>\n",
              "      <th>120min_price</th>\n",
              "      <th>150min_price</th>\n",
              "      <th>180min_price</th>\n",
              "    </tr>\n",
              "  </thead>\n",
              "  <tbody>\n",
              "    <tr>\n",
              "      <th>0</th>\n",
              "      <td>2020-09-03 15:58:53</td>\n",
              "      <td>Congratulations to our friends Account for the...</td>\n",
              "      <td>1.1642</td>\n",
              "      <td>1.1443</td>\n",
              "      <td>1.1375</td>\n",
              "      <td>1.1433</td>\n",
              "      <td>1.1350</td>\n",
              "      <td>1.1410</td>\n",
              "      <td>1.1290</td>\n",
              "    </tr>\n",
              "    <tr>\n",
              "      <th>1</th>\n",
              "      <td>2020-09-01 16:29:35</td>\n",
              "      <td>Less than a month later and we already have ad...</td>\n",
              "      <td>1.4310</td>\n",
              "      <td>1.3864</td>\n",
              "      <td>1.4029</td>\n",
              "      <td>1.4098</td>\n",
              "      <td>1.3946</td>\n",
              "      <td>1.3580</td>\n",
              "      <td>1.3168</td>\n",
              "    </tr>\n",
              "    <tr>\n",
              "      <th>2</th>\n",
              "      <td>2020-08-27 16:34:48</td>\n",
              "      <td>We are happy to announce we concluded the refu...</td>\n",
              "      <td>1.1002</td>\n",
              "      <td>1.1234</td>\n",
              "      <td>1.1179</td>\n",
              "      <td>1.1143</td>\n",
              "      <td>1.1259</td>\n",
              "      <td>1.1126</td>\n",
              "      <td>1.1292</td>\n",
              "    </tr>\n",
              "    <tr>\n",
              "      <th>3</th>\n",
              "      <td>2020-08-25 14:07:19</td>\n",
              "      <td>We've just upgraded the exchange: now doing mu...</td>\n",
              "      <td>1.0882</td>\n",
              "      <td>1.0724</td>\n",
              "      <td>1.0799</td>\n",
              "      <td>1.0909</td>\n",
              "      <td>1.0901</td>\n",
              "      <td>1.0547</td>\n",
              "      <td>1.0581</td>\n",
              "    </tr>\n",
              "    <tr>\n",
              "      <th>4</th>\n",
              "      <td>2020-08-21 13:25:58</td>\n",
              "      <td>Great to have our friends Account using Balanc...</td>\n",
              "      <td>0.9166</td>\n",
              "      <td>0.9083</td>\n",
              "      <td>0.9328</td>\n",
              "      <td>0.9365</td>\n",
              "      <td>0.9306</td>\n",
              "      <td>0.9488</td>\n",
              "      <td>0.9262</td>\n",
              "    </tr>\n",
              "  </tbody>\n",
              "</table>\n",
              "</div>"
            ],
            "text/plain": [
              "                  date  ... 180min_price\n",
              "0  2020-09-03 15:58:53  ...       1.1290\n",
              "1  2020-09-01 16:29:35  ...       1.3168\n",
              "2  2020-08-27 16:34:48  ...       1.1292\n",
              "3  2020-08-25 14:07:19  ...       1.0581\n",
              "4  2020-08-21 13:25:58  ...       0.9262\n",
              "\n",
              "[5 rows x 9 columns]"
            ]
          },
          "metadata": {
            "tags": []
          },
          "execution_count": 8
        }
      ]
    },
    {
      "cell_type": "code",
      "metadata": {
        "id": "UwGN95nzlZl8"
      },
      "source": [
        "df_safe = df"
      ],
      "execution_count": null,
      "outputs": []
    },
    {
      "cell_type": "markdown",
      "metadata": {
        "id": "1h7lxBoAKIXU"
      },
      "source": [
        "# Cleaning proper nouns"
      ]
    },
    {
      "cell_type": "code",
      "metadata": {
        "id": "Cr5hBTpe9bUF",
        "outputId": "814b01f1-72be-462b-ba89-2da891a97e31",
        "colab": {
          "base_uri": "https://localhost:8080/",
          "height": 54
        }
      },
      "source": [
        "names = [\"NEO\", \"Litecoin\", \"Qtum\", \"Cardano\", \"Ripple\", \"EOS\", \"MIOTA\", \"Stellar\", \"Ontology\", \"Tron\", \"Etherium Classic\", \"Icon\", \"Nuls\", \"Vechain\", \"Chainlink\", \"Waves\", \"BitTorrent\", \"SoMee.Social\", \"Holo\", \"Zilliqa\", \"0x\", \"Fetch.ai\", \"Bassic Attention Coin\", \"Monero\", \"Zcash\", \"IOST\", \"Celer Network\", \"Dash\", \"Nano\", \"OMG Network\", \"THETA\", \"Enjin Coin\", \"Matic Network\", \"Cosmos\", \"Harmony\", \"Algorand\", \"Elrond\", \"Dusk Network\", \"Ankr\", \"WINk\", \"Contentos\", \"Pundi X\", \"Cocos-BCX\", \"Metal\", \"TomoChain\", \"Dent\", \"Mainframe\", \"Selfkey\", \"Dock\", \"Wanchain\", \"FunFaur\", \"Civic\", \"Chiliz\", \"Band Protocol\", \"Beam \", \"Ren\", \"Ravencoin\", \"HyperCash\", \"Hedera Hashgraph\", \"Blockstack\", \"Kava.io\", \"ARPA Chain\", \"iExec RLC\", \"TROY\", \"FTX Token\", \"Origin Protocol\", \"WazirX\", \"Lisk\", \"LTO Networks\", \"Stratis\", \"Aion\", \"COTI\", \"Standard Tokenatization Protocol\", \"Waltonchain\", \"Steamr\", \"Zcoin\", \"Cartesi\", \"Hive\", \"Chromia\", \"Ardor\", \"Aave\", \"Measurable Data Token\", \"Kyber Network\", \"Augur\", \"Loopring\", \"pNetwork\", \"Compound\", \"Siacoin\", \"Horizen\", \"Syntetix Network Token\", \"DigiByte\", \"Swipe\", \"Maker\", \"Neblio\", \"Bread\", \"Steem\", \"Bluzelle\", \"Solana\", \"IRISnet\", \"THORChain\", \"FIO\", \"Travala\", \"Balancer\", \"IQeon\", \"Tezos\", \"NKN\", \"Paxos\", \"Fantom\", \"Perlin\", \"Crypto.com\", \"StormX\", \"Decred\", \"Storj\"]\n",
        "names = [x.upper() for x in names]\n",
        "print(names)"
      ],
      "execution_count": null,
      "outputs": [
        {
          "output_type": "stream",
          "text": [
            "['NEO', 'LITECOIN', 'QTUM', 'CARDANO', 'RIPPLE', 'EOS', 'MIOTA', 'STELLAR', 'ONTOLOGY', 'TRON', 'ETHERIUM CLASSIC', 'ICON', 'NULS', 'VECHAIN', 'CHAINLINK', 'WAVES', 'BITTORRENT', 'SOMEE.SOCIAL', 'HOLO', 'ZILLIQA', '0X', 'FETCH.AI', 'BASSIC ATTENTION COIN', 'MONERO', 'ZCASH', 'IOST', 'CELER NETWORK', 'DASH', 'NANO', 'OMG NETWORK', 'THETA', 'ENJIN COIN', 'MATIC NETWORK', 'COSMOS', 'HARMONY', 'ALGORAND', 'ELROND', 'DUSK NETWORK', 'ANKR', 'WINK', 'CONTENTOS', 'PUNDI X', 'COCOS-BCX', 'METAL', 'TOMOCHAIN', 'DENT', 'MAINFRAME', 'SELFKEY', 'DOCK', 'WANCHAIN', 'FUNFAUR', 'CIVIC', 'CHILIZ', 'BAND PROTOCOL', 'BEAM ', 'REN', 'RAVENCOIN', 'HYPERCASH', 'HEDERA HASHGRAPH', 'BLOCKSTACK', 'KAVA.IO', 'ARPA CHAIN', 'IEXEC RLC', 'TROY', 'FTX TOKEN', 'ORIGIN PROTOCOL', 'WAZIRX', 'LISK', 'LTO NETWORKS', 'STRATIS', 'AION', 'COTI', 'STANDARD TOKENATIZATION PROTOCOL', 'WALTONCHAIN', 'STEAMR', 'ZCOIN', 'CARTESI', 'HIVE', 'CHROMIA', 'ARDOR', 'AAVE', 'MEASURABLE DATA TOKEN', 'KYBER NETWORK', 'AUGUR', 'LOOPRING', 'PNETWORK', 'COMPOUND', 'SIACOIN', 'HORIZEN', 'SYNTETIX NETWORK TOKEN', 'DIGIBYTE', 'SWIPE', 'MAKER', 'NEBLIO', 'BREAD', 'STEEM', 'BLUZELLE', 'SOLANA', 'IRISNET', 'THORCHAIN', 'FIO', 'TRAVALA', 'BALANCER', 'IQEON', 'TEZOS', 'NKN', 'PAXOS', 'FANTOM', 'PERLIN', 'CRYPTO.COM', 'STORMX', 'DECRED', 'STORJ']\n"
          ],
          "name": "stdout"
        }
      ]
    },
    {
      "cell_type": "code",
      "metadata": {
        "id": "XN6OOPR-9pmf"
      },
      "source": [
        "def clean_proper_nouns(text):\n",
        "  strings = str(text).split(' ')\n",
        "  new_string = []\n",
        "  for string in strings:\n",
        "    if string.upper() in names:\n",
        "      new_string.append(\"COINAME\")\n",
        "    else:\n",
        "      new_string.append(string)\n",
        "  return \" \".join(new_string)"
      ],
      "execution_count": null,
      "outputs": []
    },
    {
      "cell_type": "code",
      "metadata": {
        "id": "U5enH6_jHxo1"
      },
      "source": [
        "df.text = df.text.apply(clean_proper_nouns)"
      ],
      "execution_count": null,
      "outputs": []
    },
    {
      "cell_type": "markdown",
      "metadata": {
        "id": "GUQpLvrjK7dA"
      },
      "source": [
        "## Finding Y column"
      ]
    },
    {
      "cell_type": "code",
      "metadata": {
        "id": "8JuGhdVhK-sr",
        "outputId": "46d448e4-d6e5-46fa-f74f-0af6d8cb0a04",
        "colab": {
          "base_uri": "https://localhost:8080/",
          "height": 204
        }
      },
      "source": [
        "df.head()"
      ],
      "execution_count": null,
      "outputs": [
        {
          "output_type": "execute_result",
          "data": {
            "text/html": [
              "<div>\n",
              "<style scoped>\n",
              "    .dataframe tbody tr th:only-of-type {\n",
              "        vertical-align: middle;\n",
              "    }\n",
              "\n",
              "    .dataframe tbody tr th {\n",
              "        vertical-align: top;\n",
              "    }\n",
              "\n",
              "    .dataframe thead th {\n",
              "        text-align: right;\n",
              "    }\n",
              "</style>\n",
              "<table border=\"1\" class=\"dataframe\">\n",
              "  <thead>\n",
              "    <tr style=\"text-align: right;\">\n",
              "      <th></th>\n",
              "      <th>date</th>\n",
              "      <th>text</th>\n",
              "      <th>orig_price</th>\n",
              "      <th>30min_price</th>\n",
              "      <th>60min_price</th>\n",
              "      <th>90min_price</th>\n",
              "      <th>120min_price</th>\n",
              "      <th>150min_price</th>\n",
              "      <th>180min_price</th>\n",
              "    </tr>\n",
              "  </thead>\n",
              "  <tbody>\n",
              "    <tr>\n",
              "      <th>0</th>\n",
              "      <td>2020-09-03 15:58:53</td>\n",
              "      <td>Congratulations to our friends Account for the...</td>\n",
              "      <td>1.1642</td>\n",
              "      <td>1.1443</td>\n",
              "      <td>1.1375</td>\n",
              "      <td>1.1433</td>\n",
              "      <td>1.1350</td>\n",
              "      <td>1.1410</td>\n",
              "      <td>1.1290</td>\n",
              "    </tr>\n",
              "    <tr>\n",
              "      <th>1</th>\n",
              "      <td>2020-09-01 16:29:35</td>\n",
              "      <td>Less than a month later and we already have ad...</td>\n",
              "      <td>1.4310</td>\n",
              "      <td>1.3864</td>\n",
              "      <td>1.4029</td>\n",
              "      <td>1.4098</td>\n",
              "      <td>1.3946</td>\n",
              "      <td>1.3580</td>\n",
              "      <td>1.3168</td>\n",
              "    </tr>\n",
              "    <tr>\n",
              "      <th>2</th>\n",
              "      <td>2020-08-27 16:34:48</td>\n",
              "      <td>We are happy to announce we concluded the refu...</td>\n",
              "      <td>1.1002</td>\n",
              "      <td>1.1234</td>\n",
              "      <td>1.1179</td>\n",
              "      <td>1.1143</td>\n",
              "      <td>1.1259</td>\n",
              "      <td>1.1126</td>\n",
              "      <td>1.1292</td>\n",
              "    </tr>\n",
              "    <tr>\n",
              "      <th>3</th>\n",
              "      <td>2020-08-25 14:07:19</td>\n",
              "      <td>We've just upgraded the exchange: now doing mu...</td>\n",
              "      <td>1.0882</td>\n",
              "      <td>1.0724</td>\n",
              "      <td>1.0799</td>\n",
              "      <td>1.0909</td>\n",
              "      <td>1.0901</td>\n",
              "      <td>1.0547</td>\n",
              "      <td>1.0581</td>\n",
              "    </tr>\n",
              "    <tr>\n",
              "      <th>4</th>\n",
              "      <td>2020-08-21 13:25:58</td>\n",
              "      <td>Great to have our friends Account using COINAM...</td>\n",
              "      <td>0.9166</td>\n",
              "      <td>0.9083</td>\n",
              "      <td>0.9328</td>\n",
              "      <td>0.9365</td>\n",
              "      <td>0.9306</td>\n",
              "      <td>0.9488</td>\n",
              "      <td>0.9262</td>\n",
              "    </tr>\n",
              "  </tbody>\n",
              "</table>\n",
              "</div>"
            ],
            "text/plain": [
              "                  date  ... 180min_price\n",
              "0  2020-09-03 15:58:53  ...       1.1290\n",
              "1  2020-09-01 16:29:35  ...       1.3168\n",
              "2  2020-08-27 16:34:48  ...       1.1292\n",
              "3  2020-08-25 14:07:19  ...       1.0581\n",
              "4  2020-08-21 13:25:58  ...       0.9262\n",
              "\n",
              "[5 rows x 9 columns]"
            ]
          },
          "metadata": {
            "tags": []
          },
          "execution_count": 13
        }
      ]
    },
    {
      "cell_type": "code",
      "metadata": {
        "id": "KTZ533upLlMh"
      },
      "source": [
        "df.drop(['date', '30min_price','60min_price','90min_price','120min_price','150min_price'], axis=1, inplace=True)"
      ],
      "execution_count": null,
      "outputs": []
    },
    {
      "cell_type": "code",
      "metadata": {
        "id": "uaux1djHL262"
      },
      "source": [
        "df['180delta'] = ((df[\"180min_price\"]/df['orig_price'])-1)*100"
      ],
      "execution_count": null,
      "outputs": []
    },
    {
      "cell_type": "code",
      "metadata": {
        "id": "QaMNZMlIMA8d"
      },
      "source": [
        "def val_to_class(val):\n",
        "    if float(val) > 2.0:\n",
        "        return 1\n",
        "    else:\n",
        "        return 0"
      ],
      "execution_count": null,
      "outputs": []
    },
    {
      "cell_type": "code",
      "metadata": {
        "id": "GqnRqD99MPqt"
      },
      "source": [
        "df['result'] = df.apply(lambda x: val_to_class(x['180delta']),axis=1)"
      ],
      "execution_count": null,
      "outputs": []
    },
    {
      "cell_type": "code",
      "metadata": {
        "id": "_48u9T8HMYnv"
      },
      "source": [
        "df.drop(['orig_price','180min_price',\t'180delta'], axis=1, inplace=True)"
      ],
      "execution_count": null,
      "outputs": []
    },
    {
      "cell_type": "markdown",
      "metadata": {
        "id": "qNX32qZqMtWu"
      },
      "source": [
        "## Cleaning rows with little text"
      ]
    },
    {
      "cell_type": "code",
      "metadata": {
        "id": "QDZvY03PM3tN",
        "outputId": "aca2d6e5-4371-403a-fe02-e1ba3ebb7387",
        "colab": {
          "base_uri": "https://localhost:8080/",
          "height": 255
        }
      },
      "source": [
        "df.describe"
      ],
      "execution_count": null,
      "outputs": [
        {
          "output_type": "execute_result",
          "data": {
            "text/plain": [
              "<bound method NDFrame.describe of                                                     text  result\n",
              "0      Congratulations to our friends Account for the...       0\n",
              "1      Less than a month later and we already have ad...       0\n",
              "2      We are happy to announce we concluded the refu...       1\n",
              "3      We've just upgraded the exchange: now doing mu...       0\n",
              "4      Great to have our friends Account using COINAM...       0\n",
              "...                                                  ...     ...\n",
              "42892  The #cryptoback on Account is available in the...       1\n",
              "42893   Earn up to Coin crypto back with BlockFi!  Ea...       0\n",
              "42894  The #cryptoback on Account is available in the...       1\n",
              "42895  Use COINAME to earn #crypto when you #shop! Ch...       0\n",
              "42896  Use COINAME to earn #crypto when you #shop! Ch...       0\n",
              "\n",
              "[42897 rows x 2 columns]>"
            ]
          },
          "metadata": {
            "tags": []
          },
          "execution_count": 19
        }
      ]
    },
    {
      "cell_type": "code",
      "metadata": {
        "id": "ZoVXyXYZNcjk"
      },
      "source": [
        "df = df[df['text'].map(len) > 30]"
      ],
      "execution_count": null,
      "outputs": []
    },
    {
      "cell_type": "code",
      "metadata": {
        "id": "yhRDCcA8PQn1",
        "outputId": "44a9beef-4434-4b12-ecf8-07fee5fce643",
        "colab": {
          "base_uri": "https://localhost:8080/",
          "height": 255
        }
      },
      "source": [
        "df.describe"
      ],
      "execution_count": null,
      "outputs": [
        {
          "output_type": "execute_result",
          "data": {
            "text/plain": [
              "<bound method NDFrame.describe of                                                     text  result\n",
              "0      Congratulations to our friends Account for the...       0\n",
              "1      Less than a month later and we already have ad...       0\n",
              "2      We are happy to announce we concluded the refu...       1\n",
              "3      We've just upgraded the exchange: now doing mu...       0\n",
              "4      Great to have our friends Account using COINAM...       0\n",
              "...                                                  ...     ...\n",
              "42892  The #cryptoback on Account is available in the...       1\n",
              "42893   Earn up to Coin crypto back with BlockFi!  Ea...       0\n",
              "42894  The #cryptoback on Account is available in the...       1\n",
              "42895  Use COINAME to earn #crypto when you #shop! Ch...       0\n",
              "42896  Use COINAME to earn #crypto when you #shop! Ch...       0\n",
              "\n",
              "[39620 rows x 2 columns]>"
            ]
          },
          "metadata": {
            "tags": []
          },
          "execution_count": 21
        }
      ]
    },
    {
      "cell_type": "code",
      "metadata": {
        "id": "3vpONYwzlOQa",
        "outputId": "5cd92cd9-9154-4d64-ba60-78d05b617603",
        "colab": {
          "base_uri": "https://localhost:8080/",
          "height": 119
        }
      },
      "source": [
        "df['text'] = df['text'].str.lower()"
      ],
      "execution_count": null,
      "outputs": [
        {
          "output_type": "stream",
          "text": [
            "/usr/local/lib/python3.6/dist-packages/ipykernel_launcher.py:1: SettingWithCopyWarning: \n",
            "A value is trying to be set on a copy of a slice from a DataFrame.\n",
            "Try using .loc[row_indexer,col_indexer] = value instead\n",
            "\n",
            "See the caveats in the documentation: https://pandas.pydata.org/pandas-docs/stable/user_guide/indexing.html#returning-a-view-versus-a-copy\n",
            "  \"\"\"Entry point for launching an IPython kernel.\n"
          ],
          "name": "stderr"
        }
      ]
    },
    {
      "cell_type": "markdown",
      "metadata": {
        "id": "xcxddbz1lJyl"
      },
      "source": [
        "# Additional processing"
      ]
    },
    {
      "cell_type": "code",
      "metadata": {
        "id": "AibqeYRDo7bG",
        "outputId": "d183d417-2d43-4aed-ebfc-8407ab5aa975",
        "colab": {
          "base_uri": "https://localhost:8080/",
          "height": 119
        }
      },
      "source": [
        "df['text'] = [word_tokenize(entry) for entry in df['text']]"
      ],
      "execution_count": null,
      "outputs": [
        {
          "output_type": "stream",
          "text": [
            "/usr/local/lib/python3.6/dist-packages/ipykernel_launcher.py:1: SettingWithCopyWarning: \n",
            "A value is trying to be set on a copy of a slice from a DataFrame.\n",
            "Try using .loc[row_indexer,col_indexer] = value instead\n",
            "\n",
            "See the caveats in the documentation: https://pandas.pydata.org/pandas-docs/stable/user_guide/indexing.html#returning-a-view-versus-a-copy\n",
            "  \"\"\"Entry point for launching an IPython kernel.\n"
          ],
          "name": "stderr"
        }
      ]
    },
    {
      "cell_type": "code",
      "metadata": {
        "id": "HTzyW5ciu7fs",
        "outputId": "998d7765-8686-4b74-a37f-8c57fab67b41",
        "colab": {
          "base_uri": "https://localhost:8080/",
          "height": 204
        }
      },
      "source": [
        "df.head()"
      ],
      "execution_count": null,
      "outputs": [
        {
          "output_type": "execute_result",
          "data": {
            "text/html": [
              "<div>\n",
              "<style scoped>\n",
              "    .dataframe tbody tr th:only-of-type {\n",
              "        vertical-align: middle;\n",
              "    }\n",
              "\n",
              "    .dataframe tbody tr th {\n",
              "        vertical-align: top;\n",
              "    }\n",
              "\n",
              "    .dataframe thead th {\n",
              "        text-align: right;\n",
              "    }\n",
              "</style>\n",
              "<table border=\"1\" class=\"dataframe\">\n",
              "  <thead>\n",
              "    <tr style=\"text-align: right;\">\n",
              "      <th></th>\n",
              "      <th>text</th>\n",
              "      <th>result</th>\n",
              "    </tr>\n",
              "  </thead>\n",
              "  <tbody>\n",
              "    <tr>\n",
              "      <th>0</th>\n",
              "      <td>[congratulations, to, our, friends, account, f...</td>\n",
              "      <td>0</td>\n",
              "    </tr>\n",
              "    <tr>\n",
              "      <th>1</th>\n",
              "      <td>[less, than, a, month, later, and, we, already...</td>\n",
              "      <td>0</td>\n",
              "    </tr>\n",
              "    <tr>\n",
              "      <th>2</th>\n",
              "      <td>[we, are, happy, to, announce, we, concluded, ...</td>\n",
              "      <td>1</td>\n",
              "    </tr>\n",
              "    <tr>\n",
              "      <th>3</th>\n",
              "      <td>[we, 've, just, upgraded, the, exchange, :, no...</td>\n",
              "      <td>0</td>\n",
              "    </tr>\n",
              "    <tr>\n",
              "      <th>4</th>\n",
              "      <td>[great, to, have, our, friends, account, using...</td>\n",
              "      <td>0</td>\n",
              "    </tr>\n",
              "  </tbody>\n",
              "</table>\n",
              "</div>"
            ],
            "text/plain": [
              "                                                text  result\n",
              "0  [congratulations, to, our, friends, account, f...       0\n",
              "1  [less, than, a, month, later, and, we, already...       0\n",
              "2  [we, are, happy, to, announce, we, concluded, ...       1\n",
              "3  [we, 've, just, upgraded, the, exchange, :, no...       0\n",
              "4  [great, to, have, our, friends, account, using...       0"
            ]
          },
          "metadata": {
            "tags": []
          },
          "execution_count": 24
        }
      ]
    },
    {
      "cell_type": "code",
      "metadata": {
        "id": "unWw5hmKt6FV",
        "outputId": "81aa9933-d738-4b2a-cacc-fe920a7e039b",
        "colab": {
          "base_uri": "https://localhost:8080/",
          "height": 289
        }
      },
      "source": [
        "tag_map = defaultdict(lambda : wn.NOUN)\n",
        "tag_map['J'] = wn.ADJ\n",
        "tag_map['V'] = wn.VERB\n",
        "tag_map['R'] = wn.ADV\n",
        "for index,entry in enumerate(df['text']):\n",
        "    # Declaring Empty List to store the words that follow the rules for this step\n",
        "    Final_words = []\n",
        "    # Initializing WordNetLemmatizer()\n",
        "    word_Lemmatized = WordNetLemmatizer()\n",
        "    # pos_tag function below will provide the 'tag' i.e if the word is Noun(N) or Verb(V) or something else.\n",
        "    for word, tag in pos_tag(entry):\n",
        "        # Below condition is to check for Stop words and consider only alphabets\n",
        "        if word not in stopwords.words('english') and word.isalpha():\n",
        "            word_Final = word_Lemmatized.lemmatize(word,tag_map[tag[0]])\n",
        "            Final_words.append(word_Final)\n",
        "    # The final processed set of words for each iteration will be stored in 'text_final'\n",
        "    df.loc[index,'text_final'] = str(Final_words)"
      ],
      "execution_count": null,
      "outputs": [
        {
          "output_type": "stream",
          "text": [
            "/usr/local/lib/python3.6/dist-packages/pandas/core/indexing.py:1596: SettingWithCopyWarning: \n",
            "A value is trying to be set on a copy of a slice from a DataFrame.\n",
            "Try using .loc[row_indexer,col_indexer] = value instead\n",
            "\n",
            "See the caveats in the documentation: https://pandas.pydata.org/pandas-docs/stable/user_guide/indexing.html#returning-a-view-versus-a-copy\n",
            "  self.obj[key] = _infer_fill_value(value)\n",
            "/usr/local/lib/python3.6/dist-packages/pandas/core/indexing.py:1765: SettingWithCopyWarning: \n",
            "A value is trying to be set on a copy of a slice from a DataFrame.\n",
            "Try using .loc[row_indexer,col_indexer] = value instead\n",
            "\n",
            "See the caveats in the documentation: https://pandas.pydata.org/pandas-docs/stable/user_guide/indexing.html#returning-a-view-versus-a-copy\n",
            "  isetter(loc, value)\n",
            "/usr/local/lib/python3.6/dist-packages/ipykernel_launcher.py:17: SettingWithCopyWarning: \n",
            "A value is trying to be set on a copy of a slice from a DataFrame\n",
            "\n",
            "See the caveats in the documentation: https://pandas.pydata.org/pandas-docs/stable/user_guide/indexing.html#returning-a-view-versus-a-copy\n"
          ],
          "name": "stderr"
        }
      ]
    },
    {
      "cell_type": "code",
      "metadata": {
        "id": "V2G4rnoPvZvL",
        "outputId": "0c55a048-3419-4549-bdea-4c7844dad38d",
        "colab": {
          "base_uri": "https://localhost:8080/",
          "height": 204
        }
      },
      "source": [
        "df.head()"
      ],
      "execution_count": null,
      "outputs": [
        {
          "output_type": "execute_result",
          "data": {
            "text/html": [
              "<div>\n",
              "<style scoped>\n",
              "    .dataframe tbody tr th:only-of-type {\n",
              "        vertical-align: middle;\n",
              "    }\n",
              "\n",
              "    .dataframe tbody tr th {\n",
              "        vertical-align: top;\n",
              "    }\n",
              "\n",
              "    .dataframe thead th {\n",
              "        text-align: right;\n",
              "    }\n",
              "</style>\n",
              "<table border=\"1\" class=\"dataframe\">\n",
              "  <thead>\n",
              "    <tr style=\"text-align: right;\">\n",
              "      <th></th>\n",
              "      <th>text</th>\n",
              "      <th>result</th>\n",
              "    </tr>\n",
              "  </thead>\n",
              "  <tbody>\n",
              "    <tr>\n",
              "      <th>0</th>\n",
              "      <td>['congratulation', 'friend', 'account', 'launc...</td>\n",
              "      <td>0.0</td>\n",
              "    </tr>\n",
              "    <tr>\n",
              "      <th>1</th>\n",
              "      <td>['less', 'month', 'later', 'already', 'add', '...</td>\n",
              "      <td>0.0</td>\n",
              "    </tr>\n",
              "    <tr>\n",
              "      <th>2</th>\n",
              "      <td>['happy', 'announce', 'conclude', 'refund', 't...</td>\n",
              "      <td>1.0</td>\n",
              "    </tr>\n",
              "    <tr>\n",
              "      <th>3</th>\n",
              "      <td>['upgrade', 'exchange', 'smarter', 'routing']</td>\n",
              "      <td>0.0</td>\n",
              "    </tr>\n",
              "    <tr>\n",
              "      <th>4</th>\n",
              "      <td>['great', 'friend', 'account', 'use', 'coiname...</td>\n",
              "      <td>0.0</td>\n",
              "    </tr>\n",
              "  </tbody>\n",
              "</table>\n",
              "</div>"
            ],
            "text/plain": [
              "                                                text  result\n",
              "0  ['congratulation', 'friend', 'account', 'launc...     0.0\n",
              "1  ['less', 'month', 'later', 'already', 'add', '...     0.0\n",
              "2  ['happy', 'announce', 'conclude', 'refund', 't...     1.0\n",
              "3      ['upgrade', 'exchange', 'smarter', 'routing']     0.0\n",
              "4  ['great', 'friend', 'account', 'use', 'coiname...     0.0"
            ]
          },
          "metadata": {
            "tags": []
          },
          "execution_count": 72
        }
      ]
    },
    {
      "cell_type": "code",
      "metadata": {
        "id": "pxOuelezvoSo"
      },
      "source": [
        "df.drop(['text'], axis=1, inplace=True)"
      ],
      "execution_count": null,
      "outputs": []
    },
    {
      "cell_type": "code",
      "metadata": {
        "id": "DayhnSEPv6Vu"
      },
      "source": [
        "df.rename(columns={'text_final':'text'}, inplace=True)"
      ],
      "execution_count": null,
      "outputs": []
    },
    {
      "cell_type": "code",
      "metadata": {
        "id": "r9xAw6VswNKy"
      },
      "source": [
        "df = df[['text', 'result']]"
      ],
      "execution_count": null,
      "outputs": []
    },
    {
      "cell_type": "code",
      "metadata": {
        "id": "OyI-n6EHmKwf"
      },
      "source": [
        "df['text'] = [str(i) for i in df['text']]"
      ],
      "execution_count": null,
      "outputs": []
    },
    {
      "cell_type": "markdown",
      "metadata": {
        "id": "Efned7SivZam"
      },
      "source": [
        ""
      ]
    },
    {
      "cell_type": "markdown",
      "metadata": {
        "id": "mHkVukYpPkaC"
      },
      "source": [
        "# NLP - Pipeline"
      ]
    },
    {
      "cell_type": "code",
      "metadata": {
        "id": "e0I_dJrcPgaC"
      },
      "source": [
        "X_train, X_test, y_train, y_test = train_test_split(df['text'], df['result'], test_size=0.3, random_state=60)"
      ],
      "execution_count": null,
      "outputs": []
    },
    {
      "cell_type": "code",
      "metadata": {
        "id": "i30_0gDkuFrs",
        "outputId": "84891f11-6534-4a46-f71c-cac3f3d0f6d8",
        "colab": {
          "base_uri": "https://localhost:8080/",
          "height": 51
        }
      },
      "source": [
        ""
      ],
      "execution_count": null,
      "outputs": [
        {
          "output_type": "execute_result",
          "data": {
            "text/plain": [
              "<30011x1500 sparse matrix of type '<class 'numpy.float64'>'\n",
              "\twith 327803 stored elements in Compressed Sparse Row format>"
            ]
          },
          "metadata": {
            "tags": []
          },
          "execution_count": 68
        }
      ]
    },
    {
      "cell_type": "markdown",
      "metadata": {
        "id": "Sm4pR8WHw57c"
      },
      "source": [
        "###Vectorization and TDIFD"
      ]
    },
    {
      "cell_type": "code",
      "metadata": {
        "id": "90S9Kx3ExSRN",
        "outputId": "0b7e1bd1-8102-4bec-af8f-42c0b07bfe4c",
        "colab": {
          "base_uri": "https://localhost:8080/",
          "height": 136
        }
      },
      "source": [
        "Tfidf_vect = TfidfVectorizer(max_features=1500, min_df=5, max_df=0.7)\n",
        "Tfidf_vect.fit(df['text'])"
      ],
      "execution_count": null,
      "outputs": [
        {
          "output_type": "execute_result",
          "data": {
            "text/plain": [
              "TfidfVectorizer(analyzer='word', binary=False, decode_error='strict',\n",
              "                dtype=<class 'numpy.float64'>, encoding='utf-8',\n",
              "                input='content', lowercase=True, max_df=0.7, max_features=1500,\n",
              "                min_df=5, ngram_range=(1, 1), norm='l2', preprocessor=None,\n",
              "                smooth_idf=True, stop_words=None, strip_accents=None,\n",
              "                sublinear_tf=False, token_pattern='(?u)\\\\b\\\\w\\\\w+\\\\b',\n",
              "                tokenizer=None, use_idf=True, vocabulary=None)"
            ]
          },
          "metadata": {
            "tags": []
          },
          "execution_count": 89
        }
      ]
    },
    {
      "cell_type": "code",
      "metadata": {
        "id": "j8HBRFAiutEG",
        "outputId": "3c830cd1-e4fa-4df6-d273-728ee70d5504",
        "colab": {
          "base_uri": "https://localhost:8080/",
          "height": 324
        }
      },
      "source": [
        "X_train = Tfidf_vect.transform(X_train)\n",
        "X_test = Tfidf_vect.transform(X_test)"
      ],
      "execution_count": null,
      "outputs": [
        {
          "output_type": "error",
          "ename": "AttributeError",
          "evalue": "ignored",
          "traceback": [
            "\u001b[0;31m---------------------------------------------------------------------------\u001b[0m",
            "\u001b[0;31mAttributeError\u001b[0m                            Traceback (most recent call last)",
            "\u001b[0;32m<ipython-input-94-975ba9fe8c78>\u001b[0m in \u001b[0;36m<module>\u001b[0;34m()\u001b[0m\n\u001b[0;32m----> 1\u001b[0;31m \u001b[0mX_train\u001b[0m \u001b[0;34m=\u001b[0m \u001b[0mTfidf_vect\u001b[0m\u001b[0;34m.\u001b[0m\u001b[0mtransform\u001b[0m\u001b[0;34m(\u001b[0m\u001b[0mX_train\u001b[0m\u001b[0;34m)\u001b[0m\u001b[0;34m\u001b[0m\u001b[0;34m\u001b[0m\u001b[0m\n\u001b[0m\u001b[1;32m      2\u001b[0m \u001b[0mX_test\u001b[0m \u001b[0;34m=\u001b[0m \u001b[0mTfidf_vect\u001b[0m\u001b[0;34m.\u001b[0m\u001b[0mtransform\u001b[0m\u001b[0;34m(\u001b[0m\u001b[0mX_test\u001b[0m\u001b[0;34m)\u001b[0m\u001b[0;34m\u001b[0m\u001b[0;34m\u001b[0m\u001b[0m\n",
            "\u001b[0;32m/usr/local/lib/python3.6/dist-packages/sklearn/feature_extraction/text.py\u001b[0m in \u001b[0;36mtransform\u001b[0;34m(self, raw_documents, copy)\u001b[0m\n\u001b[1;32m   1896\u001b[0m                    \"be removed in 0.24.\")\n\u001b[1;32m   1897\u001b[0m             \u001b[0mwarnings\u001b[0m\u001b[0;34m.\u001b[0m\u001b[0mwarn\u001b[0m\u001b[0;34m(\u001b[0m\u001b[0mmsg\u001b[0m\u001b[0;34m,\u001b[0m \u001b[0mFutureWarning\u001b[0m\u001b[0;34m)\u001b[0m\u001b[0;34m\u001b[0m\u001b[0;34m\u001b[0m\u001b[0m\n\u001b[0;32m-> 1898\u001b[0;31m         \u001b[0mX\u001b[0m \u001b[0;34m=\u001b[0m \u001b[0msuper\u001b[0m\u001b[0;34m(\u001b[0m\u001b[0;34m)\u001b[0m\u001b[0;34m.\u001b[0m\u001b[0mtransform\u001b[0m\u001b[0;34m(\u001b[0m\u001b[0mraw_documents\u001b[0m\u001b[0;34m)\u001b[0m\u001b[0;34m\u001b[0m\u001b[0;34m\u001b[0m\u001b[0m\n\u001b[0m\u001b[1;32m   1899\u001b[0m         \u001b[0;32mreturn\u001b[0m \u001b[0mself\u001b[0m\u001b[0;34m.\u001b[0m\u001b[0m_tfidf\u001b[0m\u001b[0;34m.\u001b[0m\u001b[0mtransform\u001b[0m\u001b[0;34m(\u001b[0m\u001b[0mX\u001b[0m\u001b[0;34m,\u001b[0m \u001b[0mcopy\u001b[0m\u001b[0;34m=\u001b[0m\u001b[0;32mFalse\u001b[0m\u001b[0;34m)\u001b[0m\u001b[0;34m\u001b[0m\u001b[0;34m\u001b[0m\u001b[0m\n\u001b[1;32m   1900\u001b[0m \u001b[0;34m\u001b[0m\u001b[0m\n",
            "\u001b[0;32m/usr/local/lib/python3.6/dist-packages/sklearn/feature_extraction/text.py\u001b[0m in \u001b[0;36mtransform\u001b[0;34m(self, raw_documents)\u001b[0m\n\u001b[1;32m   1268\u001b[0m \u001b[0;34m\u001b[0m\u001b[0m\n\u001b[1;32m   1269\u001b[0m         \u001b[0;31m# use the same matrix-building strategy as fit_transform\u001b[0m\u001b[0;34m\u001b[0m\u001b[0;34m\u001b[0m\u001b[0;34m\u001b[0m\u001b[0m\n\u001b[0;32m-> 1270\u001b[0;31m         \u001b[0m_\u001b[0m\u001b[0;34m,\u001b[0m \u001b[0mX\u001b[0m \u001b[0;34m=\u001b[0m \u001b[0mself\u001b[0m\u001b[0;34m.\u001b[0m\u001b[0m_count_vocab\u001b[0m\u001b[0;34m(\u001b[0m\u001b[0mraw_documents\u001b[0m\u001b[0;34m,\u001b[0m \u001b[0mfixed_vocab\u001b[0m\u001b[0;34m=\u001b[0m\u001b[0;32mTrue\u001b[0m\u001b[0;34m)\u001b[0m\u001b[0;34m\u001b[0m\u001b[0;34m\u001b[0m\u001b[0m\n\u001b[0m\u001b[1;32m   1271\u001b[0m         \u001b[0;32mif\u001b[0m \u001b[0mself\u001b[0m\u001b[0;34m.\u001b[0m\u001b[0mbinary\u001b[0m\u001b[0;34m:\u001b[0m\u001b[0;34m\u001b[0m\u001b[0;34m\u001b[0m\u001b[0m\n\u001b[1;32m   1272\u001b[0m             \u001b[0mX\u001b[0m\u001b[0;34m.\u001b[0m\u001b[0mdata\u001b[0m\u001b[0;34m.\u001b[0m\u001b[0mfill\u001b[0m\u001b[0;34m(\u001b[0m\u001b[0;36m1\u001b[0m\u001b[0;34m)\u001b[0m\u001b[0;34m\u001b[0m\u001b[0;34m\u001b[0m\u001b[0m\n",
            "\u001b[0;32m/usr/local/lib/python3.6/dist-packages/sklearn/feature_extraction/text.py\u001b[0m in \u001b[0;36m_count_vocab\u001b[0;34m(self, raw_documents, fixed_vocab)\u001b[0m\n\u001b[1;32m   1129\u001b[0m         \u001b[0;32mfor\u001b[0m \u001b[0mdoc\u001b[0m \u001b[0;32min\u001b[0m \u001b[0mraw_documents\u001b[0m\u001b[0;34m:\u001b[0m\u001b[0;34m\u001b[0m\u001b[0;34m\u001b[0m\u001b[0m\n\u001b[1;32m   1130\u001b[0m             \u001b[0mfeature_counter\u001b[0m \u001b[0;34m=\u001b[0m \u001b[0;34m{\u001b[0m\u001b[0;34m}\u001b[0m\u001b[0;34m\u001b[0m\u001b[0;34m\u001b[0m\u001b[0m\n\u001b[0;32m-> 1131\u001b[0;31m             \u001b[0;32mfor\u001b[0m \u001b[0mfeature\u001b[0m \u001b[0;32min\u001b[0m \u001b[0manalyze\u001b[0m\u001b[0;34m(\u001b[0m\u001b[0mdoc\u001b[0m\u001b[0;34m)\u001b[0m\u001b[0;34m:\u001b[0m\u001b[0;34m\u001b[0m\u001b[0;34m\u001b[0m\u001b[0m\n\u001b[0m\u001b[1;32m   1132\u001b[0m                 \u001b[0;32mtry\u001b[0m\u001b[0;34m:\u001b[0m\u001b[0;34m\u001b[0m\u001b[0;34m\u001b[0m\u001b[0m\n\u001b[1;32m   1133\u001b[0m                     \u001b[0mfeature_idx\u001b[0m \u001b[0;34m=\u001b[0m \u001b[0mvocabulary\u001b[0m\u001b[0;34m[\u001b[0m\u001b[0mfeature\u001b[0m\u001b[0;34m]\u001b[0m\u001b[0;34m\u001b[0m\u001b[0;34m\u001b[0m\u001b[0m\n",
            "\u001b[0;32m/usr/local/lib/python3.6/dist-packages/sklearn/feature_extraction/text.py\u001b[0m in \u001b[0;36m_analyze\u001b[0;34m(doc, analyzer, tokenizer, ngrams, preprocessor, decoder, stop_words)\u001b[0m\n\u001b[1;32m    101\u001b[0m     \u001b[0;32melse\u001b[0m\u001b[0;34m:\u001b[0m\u001b[0;34m\u001b[0m\u001b[0;34m\u001b[0m\u001b[0m\n\u001b[1;32m    102\u001b[0m         \u001b[0;32mif\u001b[0m \u001b[0mpreprocessor\u001b[0m \u001b[0;32mis\u001b[0m \u001b[0;32mnot\u001b[0m \u001b[0;32mNone\u001b[0m\u001b[0;34m:\u001b[0m\u001b[0;34m\u001b[0m\u001b[0;34m\u001b[0m\u001b[0m\n\u001b[0;32m--> 103\u001b[0;31m             \u001b[0mdoc\u001b[0m \u001b[0;34m=\u001b[0m \u001b[0mpreprocessor\u001b[0m\u001b[0;34m(\u001b[0m\u001b[0mdoc\u001b[0m\u001b[0;34m)\u001b[0m\u001b[0;34m\u001b[0m\u001b[0;34m\u001b[0m\u001b[0m\n\u001b[0m\u001b[1;32m    104\u001b[0m         \u001b[0;32mif\u001b[0m \u001b[0mtokenizer\u001b[0m \u001b[0;32mis\u001b[0m \u001b[0;32mnot\u001b[0m \u001b[0;32mNone\u001b[0m\u001b[0;34m:\u001b[0m\u001b[0;34m\u001b[0m\u001b[0;34m\u001b[0m\u001b[0m\n\u001b[1;32m    105\u001b[0m             \u001b[0mdoc\u001b[0m \u001b[0;34m=\u001b[0m \u001b[0mtokenizer\u001b[0m\u001b[0;34m(\u001b[0m\u001b[0mdoc\u001b[0m\u001b[0;34m)\u001b[0m\u001b[0;34m\u001b[0m\u001b[0;34m\u001b[0m\u001b[0m\n",
            "\u001b[0;32m/usr/local/lib/python3.6/dist-packages/sklearn/feature_extraction/text.py\u001b[0m in \u001b[0;36m_preprocess\u001b[0;34m(doc, accent_function, lower)\u001b[0m\n\u001b[1;32m     66\u001b[0m     \"\"\"\n\u001b[1;32m     67\u001b[0m     \u001b[0;32mif\u001b[0m \u001b[0mlower\u001b[0m\u001b[0;34m:\u001b[0m\u001b[0;34m\u001b[0m\u001b[0;34m\u001b[0m\u001b[0m\n\u001b[0;32m---> 68\u001b[0;31m         \u001b[0mdoc\u001b[0m \u001b[0;34m=\u001b[0m \u001b[0mdoc\u001b[0m\u001b[0;34m.\u001b[0m\u001b[0mlower\u001b[0m\u001b[0;34m(\u001b[0m\u001b[0;34m)\u001b[0m\u001b[0;34m\u001b[0m\u001b[0;34m\u001b[0m\u001b[0m\n\u001b[0m\u001b[1;32m     69\u001b[0m     \u001b[0;32mif\u001b[0m \u001b[0maccent_function\u001b[0m \u001b[0;32mis\u001b[0m \u001b[0;32mnot\u001b[0m \u001b[0;32mNone\u001b[0m\u001b[0;34m:\u001b[0m\u001b[0;34m\u001b[0m\u001b[0;34m\u001b[0m\u001b[0m\n\u001b[1;32m     70\u001b[0m         \u001b[0mdoc\u001b[0m \u001b[0;34m=\u001b[0m \u001b[0maccent_function\u001b[0m\u001b[0;34m(\u001b[0m\u001b[0mdoc\u001b[0m\u001b[0;34m)\u001b[0m\u001b[0;34m\u001b[0m\u001b[0;34m\u001b[0m\u001b[0m\n",
            "\u001b[0;32m/usr/local/lib/python3.6/dist-packages/scipy/sparse/base.py\u001b[0m in \u001b[0;36m__getattr__\u001b[0;34m(self, attr)\u001b[0m\n\u001b[1;32m    689\u001b[0m             \u001b[0;32mreturn\u001b[0m \u001b[0mself\u001b[0m\u001b[0;34m.\u001b[0m\u001b[0mgetnnz\u001b[0m\u001b[0;34m(\u001b[0m\u001b[0;34m)\u001b[0m\u001b[0;34m\u001b[0m\u001b[0;34m\u001b[0m\u001b[0m\n\u001b[1;32m    690\u001b[0m         \u001b[0;32melse\u001b[0m\u001b[0;34m:\u001b[0m\u001b[0;34m\u001b[0m\u001b[0;34m\u001b[0m\u001b[0m\n\u001b[0;32m--> 691\u001b[0;31m             \u001b[0;32mraise\u001b[0m \u001b[0mAttributeError\u001b[0m\u001b[0;34m(\u001b[0m\u001b[0mattr\u001b[0m \u001b[0;34m+\u001b[0m \u001b[0;34m\" not found\"\u001b[0m\u001b[0;34m)\u001b[0m\u001b[0;34m\u001b[0m\u001b[0;34m\u001b[0m\u001b[0m\n\u001b[0m\u001b[1;32m    692\u001b[0m \u001b[0;34m\u001b[0m\u001b[0m\n\u001b[1;32m    693\u001b[0m     \u001b[0;32mdef\u001b[0m \u001b[0mtranspose\u001b[0m\u001b[0;34m(\u001b[0m\u001b[0mself\u001b[0m\u001b[0;34m,\u001b[0m \u001b[0maxes\u001b[0m\u001b[0;34m=\u001b[0m\u001b[0;32mNone\u001b[0m\u001b[0;34m,\u001b[0m \u001b[0mcopy\u001b[0m\u001b[0;34m=\u001b[0m\u001b[0;32mFalse\u001b[0m\u001b[0;34m)\u001b[0m\u001b[0;34m:\u001b[0m\u001b[0;34m\u001b[0m\u001b[0;34m\u001b[0m\u001b[0m\n",
            "\u001b[0;31mAttributeError\u001b[0m: lower not found"
          ]
        }
      ]
    },
    {
      "cell_type": "code",
      "metadata": {
        "id": "yZgQJyDUp-40",
        "outputId": "9926a8b9-560a-4bf7-f5cd-6a6250813cec",
        "colab": {
          "base_uri": "https://localhost:8080/",
          "height": 54
        }
      },
      "source": [
        "print(Tfidf_vect.vocabulary_)"
      ],
      "execution_count": null,
      "outputs": [
        {
          "output_type": "stream",
          "text": [
            "{'congratulation': 269, 'friend': 550, 'account': 8, 'launch': 745, 'excited': 476, 'honor': 639, 'core': 289, 'new': 883, 'token': 1338, 'model': 851, 'less': 756, 'month': 859, 'later': 744, 'already': 48, 'add': 22, 'coin': 233, 'billion': 134, 'trade': 1358, 'special': 1224, 'thanks': 1318, 'amaze': 53, 'community': 248, 'partner': 950, 'make': 797, 'possible': 994, 'happy': 610, 'announce': 66, 'today': 1336, 'patience': 956, 'upgrade': 1399, 'exchange': 474, 'great': 590, 'use': 1405, 'coiname': 234, 'welcome': 1456, 'proposal': 1027, 'vote': 1437, 'go': 581, 'active': 17, 'monday': 854, 'august': 101, 'release': 1085, 'address': 25, 'recently': 1065, 'discover': 380, 'issue': 711, 'could': 292, 'allow': 44, 'node': 894, 'hit': 628, 'service': 1169, 'attack': 95, 'people': 963, 'run': 1130, 'well': 1457, 'miner': 842, 'pair': 943, 'available': 104, 'mark': 806, 'anniversary': 65, 'blockchain': 142, 'bring': 163, 'next': 887, 'year': 1486, 'beyond': 132, 'global': 579, 'network': 881, 'pass': 953, 'million': 837, 'transaction': 1362, 'first': 530, 'asset': 93, 'staking': 1242, 'mainnet': 792, 'day': 334, 'leave': 752, 'look': 782, 'back': 111, 'follow': 534, 'along': 46, 'project': 1023, 'milestone': 836, 'join': 717, 'share': 1177, 'favorite': 507, 'moment': 853, 'developer': 365, 'amp': 59, 'governance': 586, 'update': 1397, 'api': 73, 'liquidity': 768, 'source': 1219, 'good': 584, 'order': 933, 'via': 1426, 'margin': 805, 'trading': 1360, 'excite': 475, 'system': 1298, 'enable': 431, 'market': 807, 'maker': 798, 'centralized': 197, 'directly': 375, 'dex': 369, 'defi': 346, 'trader': 1359, 'thrill': 1329, 'lab': 739, 'number': 903, 'help': 620, 'improve': 664, 'please': 979, 'team': 1304, 'another': 69, 'integration': 690, 'watch': 1445, 'monthly': 860, 'call': 180, 'record': 1068, 'improvement': 665, 'zrx': 1499, 'portal': 990, 'result': 1108, 'stake': 1240, 'stats': 1249, 'web': 1449, 'metric': 832, 'bounty': 155, 'learn': 750, 'dexs': 370, 'leverage': 759, 'limit': 764, 'create': 300, 'user': 1406, 'fill': 520, 'application': 75, 'connect': 270, 'example': 471, 'reminder': 1090, 'actively': 18, 'hire': 626, 'full': 554, 'stack': 1238, 'end': 433, 'software': 1210, 'engineer': 437, 'open': 925, 'position': 992, 'always': 51, 'alert': 39, 'complete': 253, 'one': 919, 'large': 741, 'time': 1334, 'info': 675, 'gt': 594, 'swap': 1290, 'bug': 168, 'program': 1020, 'anyone': 71, 'reward': 1115, 'critical': 307, 'serve': 1167, 'function': 557, 'ensure': 444, 'sustainable': 1288, 'growth': 593, 'ownership': 941, 'live': 775, 'july': 720, 'put': 1043, 'work': 1473, 'let': 757, 'voice': 1435, 'hear': 616, 'build': 170, 'many': 802, 'external': 493, 'protocol': 1030, 'functionality': 558, 'consumer': 275, 'product': 1017, 'collateral': 238, 'introduce': 701, 'eligible': 425, 'receive': 1063, 'limited': 765, 'edition': 418, 'nft': 888, 'holder': 632, 'journey': 718, 'congrats': 268, 'take': 1300, 'step': 1255, 'towards': 1355, 'feature': 509, 'price': 1009, 'feed': 512, 'provide': 1033, 'subscribe': 1273, 'youtube': 1491, 'channel': 206, 'email': 427, 'list': 770, 'future': 561, 'tune': 1380, 'catch': 193, 'addition': 23, 'finance': 523, 'lead': 747, 'give': 576, 'ecosystem': 416, 'report': 1095, 'sure': 1285, 'discussion': 383, 'may': 817, 'saturday': 1135, 'workshop': 1474, 'decentralized': 341, 'apps': 79, 'proud': 1031, 'sponsor': 1229, 'week': 1453, 'ethereum': 461, 'news': 885, 'do': 391, 'best': 129, 'crypto': 309, 'newsletter': 886, 'resource': 1104, 'stay': 1251, 'development': 366, 'rapidly': 1054, 'evolve': 469, 'space': 1221, 'submit': 1272, 'current': 317, 'epoch': 453, 'sunday': 1280, 'scam': 1142, 'come': 242, 'attention': 97, 'fake': 501, 'send': 1162, 'fund': 559, 'see': 1156, 'initial': 678, 'wave': 1446, 'interest': 692, 'check': 212, 'event': 464, 'forget': 539, 'get': 573, 'notify': 899, 'quality': 1045, 'video': 1429, 'content': 277, 'tomorrow': 1345, 'pt': 1036, 'speed': 1227, 'recent': 1064, 'topic': 1351, 'include': 667, 'guide': 600, 'name': 869, 'meeting': 823, 'detail': 361, 'hour': 645, 'voting': 1438, 'close': 225, 'insight': 684, 'hold': 631, 'recording': 1069, 'present': 1004, 'world': 1475, 'presentation': 1005, 'thought': 1325, 'standard': 1244, 'manage': 799, 'implementation': 661, 'process': 1015, 'currently': 318, 'support': 1284, 'eth': 460, 'thread': 1327, 'correct': 290, 'icymi': 653, 'april': 81, 'amazing': 54, 'like': 762, 'begin': 123, 'respond': 1105, 'feedback': 513, 'stakers': 1241, 'pool': 988, 'consider': 274, 'popular': 989, 'smart': 1201, 'contract': 280, 'tokens': 1340, 'interested': 693, 'platform': 976, 'comprehensive': 258, 'member': 825, 'survey': 1287, 'know': 731, 'roadmap': 1122, 'remain': 1088, 'march': 804, 'require': 1098, 'post': 995, 'power': 997, 'economic': 413, 'perform': 965, 'interview': 700, 'dao': 325, 'engage': 435, 'drive': 402, 'engagement': 436, 'long': 781, 'term': 1311, 'plan': 975, 'economics': 414, 'unlock': 1395, 'phase': 970, 'key': 726, 'page': 942, 'fee': 511, 'major': 796, 'boost': 152, 'bridge': 162, 'every': 466, 'volume': 1436, 'flow': 532, 'past': 954, 'minute': 846, 'start': 1246, 'push': 1042, 'industry': 674, 'forward': 543, 'initiative': 679, 'virtual': 1431, 'fireside': 528, 'chat': 210, 'chance': 204, 'deploy': 355, 'bot': 154, 'economy': 415, 'sign': 1186, 'easily': 411, 'without': 1469, 'affect': 30, 'integrate': 689, 'pay': 959, 'small': 1200, 'calculate': 179, 'gas': 567, 'automatically': 102, 'want': 1444, 'experience': 485, 'since': 1192, 'yesterday': 1488, 'exciting': 477, 'sneak': 1205, 'announcement': 67, 'migrate': 834, 'version': 1424, 'app': 74, 'progress': 1021, 'accelerate': 2, 'read': 1057, 'review': 1113, 'occur': 905, 'within': 1468, 'find': 525, 'dev': 363, 'decentralize': 340, 'grow': 592, 'form': 541, 'increase': 668, 'potential': 996, 'participate': 948, 'mechanism': 820, 'encourage': 432, 'high': 623, 'count': 293, 'single': 1194, 'access': 5, 'across': 13, 'big': 133, 'october': 906, 'buidl': 169, 'apply': 76, 'set': 1171, 'cast': 192, 'migration': 835, 'module': 852, 'dm': 390, 'everything': 468, 'deposit': 357, 'withdrawal': 1467, 'thank': 1317, 'panel': 944, 'stream': 1266, 'soon': 1217, 'fiat': 516, 'currency': 316, 'keynote': 727, 'talk': 1301, 'value': 1416, 'understand': 1392, 'website': 1451, 'cool': 288, 'grant': 589, 'morning': 861, 'part': 946, 'en': 430, 'telegram': 1308, 'discord': 378, 'la': 738, 'de': 335, 'say': 1138, 'hi': 622, 'livestream': 776, 'enter': 445, 'ca': 178, 'worry': 1477, 'shortly': 1181, 'wednesday': 1452, 'pm': 982, 'internal': 696, 'design': 359, 'verification': 1422, 'friendly': 551, 'closely': 226, 'top': 1350, 'security': 1155, 'distribution': 386, 'refer': 1073, 'forum': 542, 'discuss': 382, 'incentive': 666, 'delegation': 349, 'able': 1, 'delegate': 348, 'expect': 484, 'emerge': 428, 'represent': 1096, 'native': 872, 'collaboration': 237, 'even': 463, 'rate': 1055, 'clear': 221, 'guarantee': 595, 'provider': 1034, 'decentralization': 339, 'testnet': 1315, 'feel': 514, 'free': 548, 'become': 122, 'expert': 486, 'safe': 1132, 'environment': 450, 'head': 614, 'execute': 479, 'need': 878, 'loan': 777, 'credit': 305, 'yes': 1487, 'pdt': 962, 'ama': 52, 'happen': 609, 'jump': 721, 'ask': 92, 'question': 1046, 'reserve': 1101, 'distribute': 385, 'secure': 1153, 'lock': 779, 'risk': 1120, 'case': 190, 'genesis': 572, 'late': 743, 'blog': 145, 'cet': 200, 'would': 1479, 'cover': 298, 'information': 676, 'life': 760, 'easy': 412, 'framework': 547, 'place': 974, 'publish': 1039, 'section': 1151, 'focus': 533, 'wait': 1440, 'round': 1126, 'medium': 821, 'way': 1447, 'favourite': 508, 'try': 1378, 'also': 49, 'awesome': 110, 'around': 86, 'job': 716, 'portfolio': 991, 'tool': 1349, 'privacy': 1010, 'track': 1357, 'main': 791, 'devs': 368, 'seed': 1157, 'tonight': 1348, 'uk': 1391, 'ampa': 60, 'stop': 1258, 'near': 874, 'drop': 403, 'register': 1079, 'fully': 555, 'accessible': 6, 'involve': 707, 'yield': 1490, 'previous': 1008, 'proof': 1026, 'episode': 452, 'podcast': 984, 'keep': 725, 'grab': 588, 'instruction': 688, 'investment': 704, 'everyone': 467, 'hack': 602, 'hackathon': 603, 'winner': 1464, 'win': 1461, 'officially': 911, 'kick': 728, 'synthetic': 1296, 'host': 642, 'june': 722, 'et': 458, 'explain': 487, 'founder': 545, 'audit': 99, 'whole': 1460, 'updated': 1398, 'dashboard': 328, 'size': 1197, 'mention': 827, 'massive': 812, 'bet': 130, 'real': 1059, 'total': 1352, 'money': 857, 'earn': 409, 'student': 1269, 'final': 521, 'hacker': 604, 'registration': 1081, 'interface': 695, 'uniswap': 1394, 'love': 785, 'invite': 706, 'asia': 91, 'dive': 387, 'chinese': 215, 'hey': 621, 'twitter': 1386, 'hello': 619, 'wazirx': 1448, 'india': 670, 'giveaway': 577, 'session': 1170, 'digital': 373, 'achieve': 11, 'scale': 1141, 'impact': 659, 'incredible': 669, 'opportunity': 930, 'financial': 524, 'role': 1124, 'play': 977, 'move': 862, 'vision': 1433, 'speak': 1222, 'overview': 940, 'strategy': 1265, 'brand': 157, 'different': 372, 'stage': 1239, 'consensusdistributed': 273, 'cryptocurrencies': 310, 'reach': 1056, 'customer': 320, 'direct': 374, 'link': 767, 'action': 15, 'compare': 250, 'last': 742, 'consensus': 272, 'reveal': 1111, 'est': 456, 'summit': 1279, 'code': 232, 'ticket': 1332, 'contribution': 282, 'company': 249, 'technology': 1307, 'general': 568, 'public': 1037, 'huge': 648, 'onto': 923, 'glad': 578, 'mind': 840, 'behind': 125, 'deep': 345, 'friday': 549, 'lending': 755, 'tip': 1335, 'answer': 70, 'lot': 784, 'expand': 483, 'offering': 908, 'establish': 457, 'wonder': 1471, 'traditional': 1361, 'profile': 1019, 'bank': 115, 'article': 89, 'alternative': 50, 'still': 1256, 'ahead': 34, 'onboard': 917, 'benefit': 127, 'additional': 24, 'architecture': 83, 'road': 1121, 'schedule': 1143, 'thursday': 1330, 'official': 910, 'reddit': 1070, 'pleased': 980, 'hard': 611, 'think': 1321, 'state': 1248, 'identify': 656, 'solve': 1213, 'infrastructure': 677, 'alongside': 47, 'validator': 1413, 'series': 1166, 'continue': 279, 'history': 627, 'fast': 505, 'korea': 734, 'box': 156, 'actually': 20, 'korean': 735, 'listing': 772, 'introduction': 702, 'earlier': 407, 'social': 1207, 'touch': 1353, 'fix': 531, 'site': 1196, 'two': 1387, 'far': 504, 'coming': 243, 'awareness': 108, 'much': 866, 'highlight': 624, 'decide': 342, 'change': 205, 'miss': 847, 'light': 761, 'busy': 175, 'date': 333, 'maintain': 794, 'local': 778, 'educate': 419, 'quick': 1047, 'documentation': 393, 'excellent': 473, 'summary': 1278, 'piece': 973, 'effort': 423, 'ago': 32, 'achievement': 12, 'po': 983, 'might': 833, 'old': 913, 'etc': 459, 'publicly': 1038, 'press': 1006, 'spotlight': 1232, 'produce': 1016, 'mainstream': 793, 'payment': 960, 'together': 1337, 'tech': 1305, 'goal': 582, 'rsvp': 1127, 'partnership': 951, 'innovative': 681, 'algorand': 40, 'switch': 1294, 'write': 1481, 'thing': 1320, 'oracle': 932, 'simple': 1190, 'explore': 488, 'approach': 78, 'advance': 27, 'enough': 443, 'exist': 482, 'creation': 301, 'scalable': 1140, 'dapps': 327, 'compete': 251, 'generation': 570, 'demo': 354, 'startup': 1247, 'daily': 324, 'candidate': 182, 'contribute': 281, 'algorithm': 41, 'blockchains': 143, 'away': 109, 'dedicate': 344, 'choose': 217, 'chain': 201, 'level': 758, 'successfully': 1276, 'stablecoins': 1237, 'block': 141, 'webinar': 1450, 'successful': 1275, 'game': 565, 'ambassador': 56, 'securely': 1154, 'implement': 660, 'advanced': 28, 'remove': 1092, 'several': 1174, 'click': 223, 'coo': 287, 'ceo': 198, 'conversation': 285, 'signature': 1187, 'raise': 1050, 'transform': 1364, 'mission': 848, 'type': 1389, 'tap': 1302, 'powerful': 998, 'right': 1116, 'compliance': 256, 'mean': 819, 'truly': 1374, 'gaming': 566, 'adoption': 26, 'base': 117, 'layer': 746, 'clarity': 220, 'language': 740, 'listen': 771, 'online': 922, 'face': 497, 'wallet': 1442, 'mobile': 849, 'smartcontracts': 1202, 'newly': 884, 'enhance': 440, 'explorer': 489, 'highly': 625, 'detailed': 362, 'deliver': 351, 'exclusive': 478, 'data': 329, 'verify': 1423, 'io': 708, 'android': 62, 'scalability': 1139, 'business': 174, 'doc': 392, 'aim': 36, 'building': 172, 'develop': 364, 'solution': 1212, 'individual': 673, 'following': 536, 'someone': 1215, 'office': 909, 'inside': 683, 'discus': 381, 'battle': 120, 'meet': 822, 'various': 1417, 'arrive': 88, 'recap': 1062, 'national': 871, 'save': 1136, 'spot': 1231, 'valuable': 1415, 'component': 257, 'contact': 276, 'competition': 252, 'prize': 1013, 'tutorial': 1383, 'collect': 239, 'beta': 131, 'tester': 1313, 'turn': 1382, 'idea': 655, 'attend': 96, 'ever': 465, 'never': 882, 'protect': 1029, 'storage': 1259, 'option': 931, 'private': 1012, 'offline': 912, 'capability': 184, 'enjoy': 442, 'interoperability': 699, 'contest': 278, 'practice': 1000, 'gold': 583, 'view': 1430, 'generate': 569, 'upcoming': 1396, 'reply': 1094, 'edge': 417, 'tournament': 1354, 'strong': 1268, 'player': 978, 'challenge': 203, 'possibility': 993, 'fintech': 527, 'tell': 1309, 'story': 1262, 'walk': 1441, 'ready': 1058, 'lucky': 789, 'follower': 535, 'tweet': 1385, 'participation': 949, 'believe': 126, 'meetup': 824, 'conference': 265, 'foundation': 544, 'finish': 526, 'store': 1260, 'enterprise': 446, 'sale': 1133, 'offer': 907, 'binance': 135, 'ankr': 63, 'performance': 966, 'sep': 1164, 'phone': 971, 'visit': 1434, 'ankryournode': 64, 'utility': 1408, 'tuned': 1381, 'deployment': 356, 'pleasure': 981, 'notification': 898, 'stable': 1235, 'cloud': 228, 'roll': 1125, 'campaign': 181, 'validators': 1414, 'eye': 496, 'low': 786, 'entry': 449, 'comment': 244, 'poll': 987, 'board': 148, 'super': 1282, 'rank': 1053, 'prepare': 1003, 'wish': 1465, 'matter': 815, 'slot': 1199, 'reduce': 1072, 'show': 1182, 'rest': 1107, 'setup': 1173, 'message': 830, 'test': 1312, 'relevant': 1086, 'interact': 691, 'agent': 31, 'promote': 1024, 'early': 408, 'force': 538, 'participant': 947, 'stand': 1243, 'alliance': 42, 'dapp': 326, 'activate': 16, 'kyc': 737, 'convert': 286, 'tomox': 1347, 'others': 938, 'revenue': 1112, 'research': 1100, 'worth': 1478, 'airdrop': 37, 'extra': 494, 'suggestion': 1277, 'utc': 1407, 'almost': 45, 'commit': 246, 'technical': 1306, 'knowledge': 732, 'ui': 1390, 'reset': 1102, 'operator': 929, 'wo': 1470, 'entire': 447, 'paper': 945, 'mining': 844, 'fight': 518, 'compute': 260, 'usd': 1402, 'per': 964, 'important': 663, 'point': 985, 'donate': 396, 'region': 1078, 'donation': 397, 'mode': 850, 'home': 638, 'february': 510, 'least': 751, 'government': 587, 'indian': 671, 'ardor': 84, 'interesting': 694, 'cryptocurrency': 311, 'quiz': 1049, 'monitor': 858, 'problem': 1014, 'weekly': 1455, 'three': 1328, 'relate': 1084, 'download': 399, 'ledger': 753, 'tuesday': 1379, 'hardware': 612, 'beginning': 124, 'arpa': 87, 'september': 1165, 'usdt': 1403, 'funding': 560, 'aug': 100, 'stablecoin': 1236, 'rise': 1119, 'speech': 1226, 'town': 1356, 'organize': 935, 'mpc': 864, 'computation': 259, 'speaker': 1223, 'instead': 686, 'chainlink': 202, 'reliable': 1087, 'hodl': 630, 'fan': 503, 'bitcoin': 138, 'google': 585, 'marketing': 808, 'conduct': 264, 'among': 57, 'cybersecurity': 322, 'yet': 1489, 'south': 1220, 'regulatory': 1083, 'surprise': 1286, 'mass': 811, 'discount': 379, 'bonus': 150, 'finally': 522, 'browser': 164, 'domain': 395, 'ad': 21, 'chart': 209, 'brave': 158, 'bat': 119, 'chief': 213, 'policy': 986, 'director': 376, 'holiday': 633, 'double': 398, 'average': 105, 'something': 1216, 'regard': 1077, 'saving': 1137, 'cost': 291, 'select': 1159, 'award': 107, 'desktop': 360, 'amount': 58, 'little': 774, 'bit': 137, 'difference': 371, 'pst': 1035, 'mint': 845, 'origin': 936, 'dai': 323, 'demand': 353, 'usage': 1401, 'extremely': 495, 'nearly': 875, 'ux': 1410, 'coinbase': 235, 'autonomous': 103, 'error': 454, 'log': 780, 'sync': 1295, 'display': 384, 'prediction': 1001, 'range': 1052, 'custom': 319, 'setting': 1172, 'book': 151, 'onboarding': 918, 'balance': 112, 'withdraw': 1466, 'path': 955, 'simply': 1191, 'kind': 729, 'bandchain': 114, 'band': 113, 'operation': 928, 'production': 1018, 'strategic': 1264, 'min': 839, 'decision': 343, 'prevent': 1007, 'script': 1146, 'trust': 1375, 'closer': 227, 'tron': 1371, 'ability': 0, 'note': 895, 'november': 900, 'marketplace': 809, 'buy': 176, 'sell': 1161, 'fair': 500, 'return': 1109, 'investor': 705, 'transparency': 1365, 'group': 591, 'utilize': 1409, 'hand': 607, 'capital': 185, 'assist': 94, 'unique': 1393, 'response': 1106, 'sdk': 1148, 'nan': 870, 'execution': 480, 'stability': 1234, 'request': 1097, 'operate': 927, 'visa': 1432, 'card': 186, 'purchase': 1041, 'transfer': 1363, 'third': 1322, 'extend': 491, 'icon': 652, 'valid': 1411, 'second': 1150, 'dollar': 394, 'coverage': 299, 'spread': 1233, 'trusted': 1376, 'bond': 149, 'supply': 1283, 'wrap': 1480, 'firm': 529, 'till': 1333, 'multiple': 867, 'reason': 1061, 'leader': 748, 'ibc': 651, 'match': 813, 'transparent': 1366, 'handle': 608, 'exposure': 490, 'activity': 19, 'xrp': 1484, 'family': 502, 'client': 224, 'whether': 1458, 'act': 14, 'communication': 247, 'cli': 222, 'cto': 313, 'exactly': 470, 'collaborate': 236, 'server': 1168, 'similar': 1189, 'success': 1274, 'mine': 841, 'validate': 1412, 'retweet': 1110, 'tag': 1299, 'kyber': 736, 'method': 831, 'due': 405, 'break': 161, 'singapore': 1193, 'engineering': 438, 'sol': 1211, 'four': 546, 'efficient': 422, 'kava': 724, 'draw': 400, 'generator': 571, 'status': 1250, 'outline': 939, 'trend': 1369, 'github': 575, 'confidential': 266, 'beam': 121, 'privacymatters': 1011, 'lelantus': 754, 'mimblewimble': 838, 'party': 952, 'countdown': 294, 'fork': 540, 'btc': 165, 'january': 714, 'guy': 601, 'care': 189, 'nothing': 896, 'ist': 712, 'amazon': 55, 'btfs': 166, 'airdropped': 38, 'attract': 98, 'accelerated': 3, 'bittorrent': 139, 'score': 1145, 'hub': 647, 'ship': 1178, 'trx': 1377, 'btt': 167, 'weekend': 1454, 'bittorrentspeed': 140, 'claim': 219, 'dlive': 388, 'celebrate': 195, 'file': 519, 'kindly': 730, 'concept': 262, 'delete': 350, 'condition': 263, 'jst': 719, 'cause': 194, 'must': 868, 'faster': 506, 'half': 605, 'exceed': 472, 'lose': 783, 'efficiency': 421, 'rule': 1129, 'accord': 7, 'pick': 972, 'fun': 556, 'notice': 897, 'personal': 969, 'resolve': 1103, 'testing': 1314, 'choice': 216, 'original': 937, 'pox': 999, 'blockstack': 144, 'significant': 1188, 'hall': 606, 'stx': 1270, 'futureproof': 562, 'connection': 271, 'whitepaper': 1459, 'appreciate': 77, 'innovation': 680, 'submission': 1271, 'requirement': 1099, 'banking': 116, 'pbc': 961, 'control': 284, 'basic': 118, 'task': 1303, 'management': 800, 'collectible': 240, 'nfts': 889, 'item': 713, 'internet': 698, 'reflect': 1076, 'random': 1051, 'period': 967, 'gmt': 580, 'sit': 1195, 'contributor': 283, 'confirm': 267, 'analysis': 61, 'preparation': 1002, 'importance': 662, 'remember': 1089, 'manager': 801, 'propose': 1028, 'hunt': 649, 'quickly': 1048, 'movement': 863, 'remote': 1091, 'eosio': 451, 'combine': 241, 'credential': 304, 'country': 295, 'cod': 231, 'database': 330, 'allocation': 43, 'sector': 1152, 'specific': 1225, 'creator': 303, 'bluzelle': 146, 'matic': 814, 'minimum': 843, 'true': 1373, 'soft': 1209, 'organization': 934, 'leaderboard': 749, 'revolution': 1114, 'advantage': 29, 'guess': 597, 'side': 1184, 'prove': 1032, 'accountaccountaccount': 10, 'swarmofduty': 1291, 'education': 420, 'definitely': 347, 'europe': 462, 'luck': 788, 'hope': 640, 'sgt': 1175, 'height': 618, 'nice': 890, 'recognize': 1066, 'star': 1245, 'word': 1472, 'instant': 685, 'person': 968, 'decentralised': 338, 'brd': 159, 'promotion': 1025, 'delivery': 352, 'rt': 1128, 'charge': 208, 'guest': 598, 'tw': 1384, 'either': 424, 'cryptomonth': 312, 'agree': 33, 'gain': 564, 'gift': 574, 'sorry': 1218, 'id': 654, 'curious': 315, 'likely': 763, 'cardano': 187, 'creative': 302, 'cardanocommunity': 188, 'regulation': 1082, 'swag': 1289, 'dear': 337, 'area': 85, 'invest': 703, 'international': 697, 'empower': 429, 'shop': 1179, 'creepts': 306, 'ctsi': 314, 'line': 766, 'accountaccount': 9, 'japanese': 715, 'recommend': 1067, 'accept': 4, 'circulate': 218, 'tx': 1388, 'birthday': 136, 'reference': 1074, 'fx': 563, 'ongoing': 921, 'scientist': 1144, 'derivative': 358, 'sport': 1230, 'synthetix': 1297, 'tokenization': 1339, 'energy': 434, 'cash': 191, 'identity': 657, 'swipe': 1293, 'dlt': 389, 'vp': 1439, 'iot': 709, 'food': 537, 'fto': 552, 'cest': 199, 'burn': 173, 'seem': 1158, 'senior': 1163, 'really': 1060, 'necessary': 877, 'course': 297, 'executive': 481, 'pax': 957, 'huobi': 650, 'vault': 1418, 'borrow': 153, 'apr': 80, 'sidechain': 1185, 'referral': 1075, 'tribe': 1370, 'mdt': 818, 'redeem': 1071, 'ai': 35, 'anything': 72, 'fact': 499, 'else': 426, 'gui': 599, 'monero': 855, 'celebration': 196, 'zero': 1493, 'travel': 1368, 'thus': 1331, 'monerokon': 856, 'thousand': 1326, 'konferenco': 733, 'hotel': 644, 'spend': 1228, 'merchant': 828, 'neblio': 876, 'neo': 879, 'especially': 455, 'snapshot': 1204, 'zoom': 1498, 'nmobile': 893, 'commercial': 245, 'hot': 643, 'ncdn': 873, 'short': 1180, 'openstaking': 926, 'nkn': 892, 'english': 439, 'night': 891, 'device': 367, 'nuls': 902, 'roi': 1123, 'nvt': 904, 'china': 214, 'qtum': 1044, 'couple': 296, 'vechain': 1419, 'institution': 687, 'omg': 914, 'omgnetwork': 915, 'meme': 826, 'omisego': 916, 'entrepreneur': 448, 'ontology': 924, 'marathon': 803, 'field': 517, 'search': 1149, 'dshop': 404, 'deal': 336, 'theapp': 1319, 'extension': 492, 'breach': 160, 'mask': 810, 'samsung': 1134, 'computer': 261, 'cap': 183, 'paxos': 958, 'worldwide': 1476, 'xpos': 1483, 'pundix': 1040, 'npxs': 901, 'xwallet': 1485, 'bnb': 147, 'facebook': 498, 'cheap': 211, 'builder': 171, 'maximum': 816, 'renvm': 1093, 'ripple': 1117, 'complex': 255, 'ripplenet': 1118, 'swellbyripple': 1292, 'shape': 1176, 'selfkey': 1160, 'databreach': 331, 'cyberattacks': 321, 'health': 615, 'sia': 1183, 'skynet': 1198, 'completely': 254, 'however': 646, 'though': 1324, 'somee': 1214, 'socialmediaredefined': 1208, 'earnonsomee': 410, 'ong': 920, 'maintenance': 795, 'disable': 377, 'dream': 401, 'steem': 1252, 'buyback': 177, 'stellar': 1253, 'stellardevelopers': 1254, 'sdf': 1147, 'meridian': 829, 'net': 880, 'stormx': 1261, 'temporarily': 1310, 'stmx': 1257, 'mto': 865, 'stpt': 1263, 'streamr': 1267, 'dataunions': 332, 'apy': 82, 'snx': 1206, 'guardian': 596, 'tfuel': 1316, 'bepswap': 128, 'thorchain': 1323, 'rune': 1131, 'chaosnet': 207, 'machine': 790, 'usdx': 1404, 'tomochain': 1342, 'tomodex': 1343, 'tomowallet': 1346, 'tomo': 1341, 'tomop': 1344, 'travala': 1367, 'troy': 1372, 'vechainbootcamp': 1420, 'vet': 1425, 'vechainthor': 1421, 'sunny': 1281, 'waltonchain': 1443, 'viafrom': 1427, 'registered': 1080, 'viawith': 1428, 'kaun': 723, 'indiawantscrypto': 672, 'wrx': 1482, 'inr': 682, 'smartly': 1203, 'ftx': 553, 'wink': 1462, 'winksters': 1463, 'progresswithzil': 1022, 'zilliqa': 1495, 'zilliqacommunity': 1496, 'zilhive': 1494, 'aw': 106, 'cocosbcx': 230, 'coco': 229, 'annualized': 68, 'cro': 308, 'hkt': 629, 'enjin': 441, 'dusk': 406, 'zcash': 1492, 'fet': 515, 'artificialintelligence': 90, 'harmony': 613, 'hedera': 617, 'horizen': 641, 'holochain': 635, 'holo': 634, 'holoport': 637, 'holofuel': 636, 'iexec': 658, 'iota': 710, 'lisk': 769, 'zkrollup': 1497, 'litecoin': 773, 'ltc': 787, 'upi': 1400}\n"
          ],
          "name": "stdout"
        }
      ]
    },
    {
      "cell_type": "code",
      "metadata": {
        "id": "g0e2WqZvqEXs",
        "outputId": "786856d5-9d18-426f-e303-fac97b12ed89",
        "colab": {
          "base_uri": "https://localhost:8080/",
          "height": 170
        }
      },
      "source": [
        "df.info()"
      ],
      "execution_count": null,
      "outputs": [
        {
          "output_type": "stream",
          "text": [
            "<class 'pandas.core.frame.DataFrame'>\n",
            "Int64Index: 42873 entries, 0 to 39579\n",
            "Data columns (total 2 columns):\n",
            " #   Column  Non-Null Count  Dtype  \n",
            "---  ------  --------------  -----  \n",
            " 0   text    42873 non-null  object \n",
            " 1   result  39620 non-null  float64\n",
            "dtypes: float64(1), object(1)\n",
            "memory usage: 2.2+ MB\n"
          ],
          "name": "stdout"
        }
      ]
    },
    {
      "cell_type": "markdown",
      "metadata": {
        "id": "WSQFzQ1fn4rm"
      },
      "source": [
        "### Classification algorithms"
      ]
    },
    {
      "cell_type": "markdown",
      "metadata": {
        "id": "J27zCf2WoI4R"
      },
      "source": [
        "Naive Bayes"
      ]
    },
    {
      "cell_type": "code",
      "metadata": {
        "id": "SfJYUUektk8d",
        "outputId": "cd241b5c-8549-42e6-bd9f-ab25146084bf",
        "colab": {
          "base_uri": "https://localhost:8080/",
          "height": 283
        }
      },
      "source": [
        "X_train.info()"
      ],
      "execution_count": null,
      "outputs": [
        {
          "output_type": "error",
          "ename": "AttributeError",
          "evalue": "ignored",
          "traceback": [
            "\u001b[0;31m---------------------------------------------------------------------------\u001b[0m",
            "\u001b[0;31mAttributeError\u001b[0m                            Traceback (most recent call last)",
            "\u001b[0;32m<ipython-input-93-bd629803b521>\u001b[0m in \u001b[0;36m<module>\u001b[0;34m()\u001b[0m\n\u001b[0;32m----> 1\u001b[0;31m \u001b[0mX_train\u001b[0m\u001b[0;34m.\u001b[0m\u001b[0minfo\u001b[0m\u001b[0;34m(\u001b[0m\u001b[0;34m)\u001b[0m\u001b[0;34m\u001b[0m\u001b[0;34m\u001b[0m\u001b[0m\n\u001b[0m",
            "\u001b[0;32m/usr/local/lib/python3.6/dist-packages/scipy/sparse/base.py\u001b[0m in \u001b[0;36m__getattr__\u001b[0;34m(self, attr)\u001b[0m\n\u001b[1;32m    689\u001b[0m             \u001b[0;32mreturn\u001b[0m \u001b[0mself\u001b[0m\u001b[0;34m.\u001b[0m\u001b[0mgetnnz\u001b[0m\u001b[0;34m(\u001b[0m\u001b[0;34m)\u001b[0m\u001b[0;34m\u001b[0m\u001b[0;34m\u001b[0m\u001b[0m\n\u001b[1;32m    690\u001b[0m         \u001b[0;32melse\u001b[0m\u001b[0;34m:\u001b[0m\u001b[0;34m\u001b[0m\u001b[0;34m\u001b[0m\u001b[0m\n\u001b[0;32m--> 691\u001b[0;31m             \u001b[0;32mraise\u001b[0m \u001b[0mAttributeError\u001b[0m\u001b[0;34m(\u001b[0m\u001b[0mattr\u001b[0m \u001b[0;34m+\u001b[0m \u001b[0;34m\" not found\"\u001b[0m\u001b[0;34m)\u001b[0m\u001b[0;34m\u001b[0m\u001b[0;34m\u001b[0m\u001b[0m\n\u001b[0m\u001b[1;32m    692\u001b[0m \u001b[0;34m\u001b[0m\u001b[0m\n\u001b[1;32m    693\u001b[0m     \u001b[0;32mdef\u001b[0m \u001b[0mtranspose\u001b[0m\u001b[0;34m(\u001b[0m\u001b[0mself\u001b[0m\u001b[0;34m,\u001b[0m \u001b[0maxes\u001b[0m\u001b[0;34m=\u001b[0m\u001b[0;32mNone\u001b[0m\u001b[0;34m,\u001b[0m \u001b[0mcopy\u001b[0m\u001b[0;34m=\u001b[0m\u001b[0;32mFalse\u001b[0m\u001b[0;34m)\u001b[0m\u001b[0;34m:\u001b[0m\u001b[0;34m\u001b[0m\u001b[0;34m\u001b[0m\u001b[0m\n",
            "\u001b[0;31mAttributeError\u001b[0m: info not found"
          ]
        }
      ]
    },
    {
      "cell_type": "code",
      "metadata": {
        "id": "4vmLrqj-oEtf",
        "outputId": "52c7bd19-7afc-4d51-f570-cad47aa31231",
        "colab": {
          "base_uri": "https://localhost:8080/",
          "height": 375
        }
      },
      "source": [
        "# fit the training dataset on the NB classifier\n",
        "Naive = naive_bayes.MultinomialNB()\n",
        "Naive.fit(X_train, y_train)\n",
        "# predict the labels on validation dataset\n",
        "predictions_NB = Naive.predict(X_test)\n",
        "# Use accuracy_score function to get the accuracy\n",
        "print(\"Naive Bayes Accuracy Score -> \",accuracy_score(predictions_NB, y_test)*100)"
      ],
      "execution_count": null,
      "outputs": [
        {
          "output_type": "error",
          "ename": "ValueError",
          "evalue": "ignored",
          "traceback": [
            "\u001b[0;31m---------------------------------------------------------------------------\u001b[0m",
            "\u001b[0;31mValueError\u001b[0m                                Traceback (most recent call last)",
            "\u001b[0;32m<ipython-input-92-6d283aae6287>\u001b[0m in \u001b[0;36m<module>\u001b[0;34m()\u001b[0m\n\u001b[1;32m      1\u001b[0m \u001b[0;31m# fit the training dataset on the NB classifier\u001b[0m\u001b[0;34m\u001b[0m\u001b[0;34m\u001b[0m\u001b[0;34m\u001b[0m\u001b[0m\n\u001b[1;32m      2\u001b[0m \u001b[0mNaive\u001b[0m \u001b[0;34m=\u001b[0m \u001b[0mnaive_bayes\u001b[0m\u001b[0;34m.\u001b[0m\u001b[0mMultinomialNB\u001b[0m\u001b[0;34m(\u001b[0m\u001b[0;34m)\u001b[0m\u001b[0;34m\u001b[0m\u001b[0;34m\u001b[0m\u001b[0m\n\u001b[0;32m----> 3\u001b[0;31m \u001b[0mNaive\u001b[0m\u001b[0;34m.\u001b[0m\u001b[0mfit\u001b[0m\u001b[0;34m(\u001b[0m\u001b[0mX_train\u001b[0m\u001b[0;34m,\u001b[0m \u001b[0my_train\u001b[0m\u001b[0;34m)\u001b[0m\u001b[0;34m\u001b[0m\u001b[0;34m\u001b[0m\u001b[0m\n\u001b[0m\u001b[1;32m      4\u001b[0m \u001b[0;31m# predict the labels on validation dataset\u001b[0m\u001b[0;34m\u001b[0m\u001b[0;34m\u001b[0m\u001b[0;34m\u001b[0m\u001b[0m\n\u001b[1;32m      5\u001b[0m \u001b[0mpredictions_NB\u001b[0m \u001b[0;34m=\u001b[0m \u001b[0mNaive\u001b[0m\u001b[0;34m.\u001b[0m\u001b[0mpredict\u001b[0m\u001b[0;34m(\u001b[0m\u001b[0mX_test\u001b[0m\u001b[0;34m)\u001b[0m\u001b[0;34m\u001b[0m\u001b[0;34m\u001b[0m\u001b[0m\n",
            "\u001b[0;32m/usr/local/lib/python3.6/dist-packages/sklearn/naive_bayes.py\u001b[0m in \u001b[0;36mfit\u001b[0;34m(self, X, y, sample_weight)\u001b[0m\n\u001b[1;32m    607\u001b[0m         \u001b[0mself\u001b[0m \u001b[0;34m:\u001b[0m \u001b[0mobject\u001b[0m\u001b[0;34m\u001b[0m\u001b[0;34m\u001b[0m\u001b[0m\n\u001b[1;32m    608\u001b[0m         \"\"\"\n\u001b[0;32m--> 609\u001b[0;31m         \u001b[0mX\u001b[0m\u001b[0;34m,\u001b[0m \u001b[0my\u001b[0m \u001b[0;34m=\u001b[0m \u001b[0mself\u001b[0m\u001b[0;34m.\u001b[0m\u001b[0m_check_X_y\u001b[0m\u001b[0;34m(\u001b[0m\u001b[0mX\u001b[0m\u001b[0;34m,\u001b[0m \u001b[0my\u001b[0m\u001b[0;34m)\u001b[0m\u001b[0;34m\u001b[0m\u001b[0;34m\u001b[0m\u001b[0m\n\u001b[0m\u001b[1;32m    610\u001b[0m         \u001b[0m_\u001b[0m\u001b[0;34m,\u001b[0m \u001b[0mn_features\u001b[0m \u001b[0;34m=\u001b[0m \u001b[0mX\u001b[0m\u001b[0;34m.\u001b[0m\u001b[0mshape\u001b[0m\u001b[0;34m\u001b[0m\u001b[0;34m\u001b[0m\u001b[0m\n\u001b[1;32m    611\u001b[0m         \u001b[0mself\u001b[0m\u001b[0;34m.\u001b[0m\u001b[0mn_features_\u001b[0m \u001b[0;34m=\u001b[0m \u001b[0mn_features\u001b[0m\u001b[0;34m\u001b[0m\u001b[0;34m\u001b[0m\u001b[0m\n",
            "\u001b[0;32m/usr/local/lib/python3.6/dist-packages/sklearn/naive_bayes.py\u001b[0m in \u001b[0;36m_check_X_y\u001b[0;34m(self, X, y)\u001b[0m\n\u001b[1;32m    473\u001b[0m \u001b[0;34m\u001b[0m\u001b[0m\n\u001b[1;32m    474\u001b[0m     \u001b[0;32mdef\u001b[0m \u001b[0m_check_X_y\u001b[0m\u001b[0;34m(\u001b[0m\u001b[0mself\u001b[0m\u001b[0;34m,\u001b[0m \u001b[0mX\u001b[0m\u001b[0;34m,\u001b[0m \u001b[0my\u001b[0m\u001b[0;34m)\u001b[0m\u001b[0;34m:\u001b[0m\u001b[0;34m\u001b[0m\u001b[0;34m\u001b[0m\u001b[0m\n\u001b[0;32m--> 475\u001b[0;31m         \u001b[0;32mreturn\u001b[0m \u001b[0mcheck_X_y\u001b[0m\u001b[0;34m(\u001b[0m\u001b[0mX\u001b[0m\u001b[0;34m,\u001b[0m \u001b[0my\u001b[0m\u001b[0;34m,\u001b[0m \u001b[0maccept_sparse\u001b[0m\u001b[0;34m=\u001b[0m\u001b[0;34m'csr'\u001b[0m\u001b[0;34m)\u001b[0m\u001b[0;34m\u001b[0m\u001b[0;34m\u001b[0m\u001b[0m\n\u001b[0m\u001b[1;32m    476\u001b[0m \u001b[0;34m\u001b[0m\u001b[0m\n\u001b[1;32m    477\u001b[0m     \u001b[0;32mdef\u001b[0m \u001b[0m_update_class_log_prior\u001b[0m\u001b[0;34m(\u001b[0m\u001b[0mself\u001b[0m\u001b[0;34m,\u001b[0m \u001b[0mclass_prior\u001b[0m\u001b[0;34m=\u001b[0m\u001b[0;32mNone\u001b[0m\u001b[0;34m)\u001b[0m\u001b[0;34m:\u001b[0m\u001b[0;34m\u001b[0m\u001b[0;34m\u001b[0m\u001b[0m\n",
            "\u001b[0;32m/usr/local/lib/python3.6/dist-packages/sklearn/utils/validation.py\u001b[0m in \u001b[0;36mcheck_X_y\u001b[0;34m(X, y, accept_sparse, accept_large_sparse, dtype, order, copy, force_all_finite, ensure_2d, allow_nd, multi_output, ensure_min_samples, ensure_min_features, y_numeric, warn_on_dtype, estimator)\u001b[0m\n\u001b[1;32m    759\u001b[0m     \u001b[0;32melse\u001b[0m\u001b[0;34m:\u001b[0m\u001b[0;34m\u001b[0m\u001b[0;34m\u001b[0m\u001b[0m\n\u001b[1;32m    760\u001b[0m         \u001b[0my\u001b[0m \u001b[0;34m=\u001b[0m \u001b[0mcolumn_or_1d\u001b[0m\u001b[0;34m(\u001b[0m\u001b[0my\u001b[0m\u001b[0;34m,\u001b[0m \u001b[0mwarn\u001b[0m\u001b[0;34m=\u001b[0m\u001b[0;32mTrue\u001b[0m\u001b[0;34m)\u001b[0m\u001b[0;34m\u001b[0m\u001b[0;34m\u001b[0m\u001b[0m\n\u001b[0;32m--> 761\u001b[0;31m         \u001b[0m_assert_all_finite\u001b[0m\u001b[0;34m(\u001b[0m\u001b[0my\u001b[0m\u001b[0;34m)\u001b[0m\u001b[0;34m\u001b[0m\u001b[0;34m\u001b[0m\u001b[0m\n\u001b[0m\u001b[1;32m    762\u001b[0m     \u001b[0;32mif\u001b[0m \u001b[0my_numeric\u001b[0m \u001b[0;32mand\u001b[0m \u001b[0my\u001b[0m\u001b[0;34m.\u001b[0m\u001b[0mdtype\u001b[0m\u001b[0;34m.\u001b[0m\u001b[0mkind\u001b[0m \u001b[0;34m==\u001b[0m \u001b[0;34m'O'\u001b[0m\u001b[0;34m:\u001b[0m\u001b[0;34m\u001b[0m\u001b[0;34m\u001b[0m\u001b[0m\n\u001b[1;32m    763\u001b[0m         \u001b[0my\u001b[0m \u001b[0;34m=\u001b[0m \u001b[0my\u001b[0m\u001b[0;34m.\u001b[0m\u001b[0mastype\u001b[0m\u001b[0;34m(\u001b[0m\u001b[0mnp\u001b[0m\u001b[0;34m.\u001b[0m\u001b[0mfloat64\u001b[0m\u001b[0;34m)\u001b[0m\u001b[0;34m\u001b[0m\u001b[0;34m\u001b[0m\u001b[0m\n",
            "\u001b[0;32m/usr/local/lib/python3.6/dist-packages/sklearn/utils/validation.py\u001b[0m in \u001b[0;36m_assert_all_finite\u001b[0;34m(X, allow_nan, msg_dtype)\u001b[0m\n\u001b[1;32m     58\u001b[0m                     \u001b[0mmsg_err\u001b[0m\u001b[0;34m.\u001b[0m\u001b[0mformat\u001b[0m\u001b[0;34m\u001b[0m\u001b[0;34m\u001b[0m\u001b[0m\n\u001b[1;32m     59\u001b[0m                     (type_err,\n\u001b[0;32m---> 60\u001b[0;31m                      msg_dtype if msg_dtype is not None else X.dtype)\n\u001b[0m\u001b[1;32m     61\u001b[0m             )\n\u001b[1;32m     62\u001b[0m     \u001b[0;31m# for object dtype data, we only check for NaNs (GH-13254)\u001b[0m\u001b[0;34m\u001b[0m\u001b[0;34m\u001b[0m\u001b[0;34m\u001b[0m\u001b[0m\n",
            "\u001b[0;31mValueError\u001b[0m: Input contains NaN, infinity or a value too large for dtype('float64')."
          ]
        }
      ]
    },
    {
      "cell_type": "markdown",
      "metadata": {
        "id": "kWRFeeoMxOYB"
      },
      "source": [
        "## Old Code"
      ]
    },
    {
      "cell_type": "code",
      "metadata": {
        "id": "szqEYF1-olNW",
        "outputId": "aef8daa4-0b60-4007-92f3-9fc8cb995c2f",
        "colab": {
          "base_uri": "https://localhost:8080/",
          "height": 164
        }
      },
      "source": [
        "text_clf = Pipeline([('vect', CountVectorizer()), ('tfidf', TfidfTransformer()), ('clf', MultinomialNB())])"
      ],
      "execution_count": null,
      "outputs": [
        {
          "output_type": "error",
          "ename": "NameError",
          "evalue": "ignored",
          "traceback": [
            "\u001b[0;31m---------------------------------------------------------------------------\u001b[0m",
            "\u001b[0;31mNameError\u001b[0m                                 Traceback (most recent call last)",
            "\u001b[0;32m<ipython-input-56-d9f41672db9e>\u001b[0m in \u001b[0;36m<module>\u001b[0;34m()\u001b[0m\n\u001b[0;32m----> 1\u001b[0;31m \u001b[0mtext_clf\u001b[0m \u001b[0;34m=\u001b[0m \u001b[0mPipeline\u001b[0m\u001b[0;34m(\u001b[0m\u001b[0;34m[\u001b[0m\u001b[0;34m(\u001b[0m\u001b[0;34m'vect'\u001b[0m\u001b[0;34m,\u001b[0m \u001b[0mCountVectorizer\u001b[0m\u001b[0;34m(\u001b[0m\u001b[0;34m)\u001b[0m\u001b[0;34m)\u001b[0m\u001b[0;34m,\u001b[0m \u001b[0;34m(\u001b[0m\u001b[0;34m'tfidf'\u001b[0m\u001b[0;34m,\u001b[0m \u001b[0mTfidfTransformer\u001b[0m\u001b[0;34m(\u001b[0m\u001b[0;34m)\u001b[0m\u001b[0;34m)\u001b[0m\u001b[0;34m,\u001b[0m \u001b[0;34m(\u001b[0m\u001b[0;34m'clf'\u001b[0m\u001b[0;34m,\u001b[0m \u001b[0mMultinomialNB\u001b[0m\u001b[0;34m(\u001b[0m\u001b[0;34m)\u001b[0m\u001b[0;34m)\u001b[0m\u001b[0;34m]\u001b[0m\u001b[0;34m)\u001b[0m\u001b[0;34m\u001b[0m\u001b[0;34m\u001b[0m\u001b[0m\n\u001b[0m",
            "\u001b[0;31mNameError\u001b[0m: name 'TfidfTransformer' is not defined"
          ]
        }
      ]
    },
    {
      "cell_type": "code",
      "metadata": {
        "id": "Kb5abmoGomdi",
        "outputId": "0d4af8dd-00c3-4a66-fef1-f747003b4833",
        "colab": {
          "base_uri": "https://localhost:8080/",
          "height": 164
        }
      },
      "source": [
        "text_clf.fit(X_train, y_train)"
      ],
      "execution_count": null,
      "outputs": [
        {
          "output_type": "error",
          "ename": "NameError",
          "evalue": "ignored",
          "traceback": [
            "\u001b[0;31m---------------------------------------------------------------------------\u001b[0m",
            "\u001b[0;31mNameError\u001b[0m                                 Traceback (most recent call last)",
            "\u001b[0;32m<ipython-input-57-6390603fde89>\u001b[0m in \u001b[0;36m<module>\u001b[0;34m()\u001b[0m\n\u001b[0;32m----> 1\u001b[0;31m \u001b[0mtext_clf\u001b[0m\u001b[0;34m.\u001b[0m\u001b[0mfit\u001b[0m\u001b[0;34m(\u001b[0m\u001b[0mX_train\u001b[0m\u001b[0;34m,\u001b[0m \u001b[0my_train\u001b[0m\u001b[0;34m)\u001b[0m\u001b[0;34m\u001b[0m\u001b[0;34m\u001b[0m\u001b[0m\n\u001b[0m",
            "\u001b[0;31mNameError\u001b[0m: name 'text_clf' is not defined"
          ]
        }
      ]
    },
    {
      "cell_type": "code",
      "metadata": {
        "id": "cqxnaUQConnQ"
      },
      "source": [
        "y_predicted = text_clf.predict(X_test)"
      ],
      "execution_count": null,
      "outputs": []
    },
    {
      "cell_type": "code",
      "metadata": {
        "id": "aOOJgGs0opG-"
      },
      "source": [
        "accuracy = mean_absolute_error(y_test, y_predicted)\n",
        "print(1 - accuracy)"
      ],
      "execution_count": null,
      "outputs": []
    },
    {
      "cell_type": "code",
      "metadata": {
        "id": "yjy6-Lzvpxgq"
      },
      "source": [
        "clf = svm.SVC()"
      ],
      "execution_count": null,
      "outputs": []
    },
    {
      "cell_type": "code",
      "metadata": {
        "id": "BtaA_8AAaLDc"
      },
      "source": [
        "text_clf2 = Pipeline([('vect', CountVectorizer()), ('tfidf', TfidfTransformer()), ('clf', svm.SVC())])"
      ],
      "execution_count": null,
      "outputs": []
    },
    {
      "cell_type": "code",
      "metadata": {
        "id": "4fzPxLwiaXcK"
      },
      "source": [
        "text_clf2.fit(X_train, y_train)"
      ],
      "execution_count": null,
      "outputs": []
    },
    {
      "cell_type": "code",
      "metadata": {
        "id": "wge9vxbCadkl"
      },
      "source": [
        "y_predicted2 = text_clf2.predict(X_test)"
      ],
      "execution_count": null,
      "outputs": []
    },
    {
      "cell_type": "code",
      "metadata": {
        "id": "rAUKcx3ncksm"
      },
      "source": [
        "accuracy = mean_absolute_error(y_test, y_predicted2)\n",
        "print(1 - accuracy)"
      ],
      "execution_count": null,
      "outputs": []
    },
    {
      "cell_type": "code",
      "metadata": {
        "id": "9reRFryyeyYK"
      },
      "source": [
        ""
      ],
      "execution_count": null,
      "outputs": []
    }
  ]
}